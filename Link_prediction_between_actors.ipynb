{
  "nbformat": 4,
  "nbformat_minor": 0,
  "metadata": {
    "kernelspec": {
      "display_name": "Python 3",
      "language": "python",
      "name": "python3"
    },
    "colab": {
      "name": "Link_prediction_between_actors.ipynb",
      "provenance": [],
      "collapsed_sections": []
    },
    "widgets": {
      "application/vnd.jupyter.widget-state+json": {
        "8b63e53ff9a64ad0b38609025494f668": {
          "model_module": "@jupyter-widgets/controls",
          "model_name": "HBoxModel",
          "state": {
            "_view_name": "HBoxView",
            "_dom_classes": [],
            "_model_name": "HBoxModel",
            "_view_module": "@jupyter-widgets/controls",
            "_model_module_version": "1.5.0",
            "_view_count": null,
            "_view_module_version": "1.5.0",
            "box_style": "",
            "layout": "IPY_MODEL_d9cdb3aea9b0434fa63c6e84c01a0119",
            "_model_module": "@jupyter-widgets/controls",
            "children": [
              "IPY_MODEL_ea918744ff654bb5992788c2c11ff586",
              "IPY_MODEL_c249dec8553f4c07bd696546322acec8"
            ]
          }
        },
        "d9cdb3aea9b0434fa63c6e84c01a0119": {
          "model_module": "@jupyter-widgets/base",
          "model_name": "LayoutModel",
          "state": {
            "_view_name": "LayoutView",
            "grid_template_rows": null,
            "right": null,
            "justify_content": null,
            "_view_module": "@jupyter-widgets/base",
            "overflow": null,
            "_model_module_version": "1.2.0",
            "_view_count": null,
            "flex_flow": null,
            "width": null,
            "min_width": null,
            "border": null,
            "align_items": null,
            "bottom": null,
            "_model_module": "@jupyter-widgets/base",
            "top": null,
            "grid_column": null,
            "overflow_y": null,
            "overflow_x": null,
            "grid_auto_flow": null,
            "grid_area": null,
            "grid_template_columns": null,
            "flex": null,
            "_model_name": "LayoutModel",
            "justify_items": null,
            "grid_row": null,
            "max_height": null,
            "align_content": null,
            "visibility": null,
            "align_self": null,
            "height": null,
            "min_height": null,
            "padding": null,
            "grid_auto_rows": null,
            "grid_gap": null,
            "max_width": null,
            "order": null,
            "_view_module_version": "1.2.0",
            "grid_template_areas": null,
            "object_position": null,
            "object_fit": null,
            "grid_auto_columns": null,
            "margin": null,
            "display": null,
            "left": null
          }
        },
        "ea918744ff654bb5992788c2c11ff586": {
          "model_module": "@jupyter-widgets/controls",
          "model_name": "FloatProgressModel",
          "state": {
            "_view_name": "ProgressView",
            "style": "IPY_MODEL_bc3b77421d88458e8aa663a20fdbf571",
            "_dom_classes": [],
            "description": "100%",
            "_model_name": "FloatProgressModel",
            "bar_style": "success",
            "max": 3289,
            "_view_module": "@jupyter-widgets/controls",
            "_model_module_version": "1.5.0",
            "value": 3289,
            "_view_count": null,
            "_view_module_version": "1.5.0",
            "orientation": "horizontal",
            "min": 0,
            "description_tooltip": null,
            "_model_module": "@jupyter-widgets/controls",
            "layout": "IPY_MODEL_37e5b01e360c465cb8c6dc8f4df9e4a5"
          }
        },
        "c249dec8553f4c07bd696546322acec8": {
          "model_module": "@jupyter-widgets/controls",
          "model_name": "HTMLModel",
          "state": {
            "_view_name": "HTMLView",
            "style": "IPY_MODEL_7287c769d4b542668b9cd4aaab13d1f7",
            "_dom_classes": [],
            "description": "",
            "_model_name": "HTMLModel",
            "placeholder": "​",
            "_view_module": "@jupyter-widgets/controls",
            "_model_module_version": "1.5.0",
            "value": " 3289/3289 [04:09&lt;00:00, 13.16it/s]",
            "_view_count": null,
            "_view_module_version": "1.5.0",
            "description_tooltip": null,
            "_model_module": "@jupyter-widgets/controls",
            "layout": "IPY_MODEL_f6c1988802704af8bfc6eb9e4ae66263"
          }
        },
        "bc3b77421d88458e8aa663a20fdbf571": {
          "model_module": "@jupyter-widgets/controls",
          "model_name": "ProgressStyleModel",
          "state": {
            "_view_name": "StyleView",
            "_model_name": "ProgressStyleModel",
            "description_width": "initial",
            "_view_module": "@jupyter-widgets/base",
            "_model_module_version": "1.5.0",
            "_view_count": null,
            "_view_module_version": "1.2.0",
            "bar_color": null,
            "_model_module": "@jupyter-widgets/controls"
          }
        },
        "37e5b01e360c465cb8c6dc8f4df9e4a5": {
          "model_module": "@jupyter-widgets/base",
          "model_name": "LayoutModel",
          "state": {
            "_view_name": "LayoutView",
            "grid_template_rows": null,
            "right": null,
            "justify_content": null,
            "_view_module": "@jupyter-widgets/base",
            "overflow": null,
            "_model_module_version": "1.2.0",
            "_view_count": null,
            "flex_flow": null,
            "width": null,
            "min_width": null,
            "border": null,
            "align_items": null,
            "bottom": null,
            "_model_module": "@jupyter-widgets/base",
            "top": null,
            "grid_column": null,
            "overflow_y": null,
            "overflow_x": null,
            "grid_auto_flow": null,
            "grid_area": null,
            "grid_template_columns": null,
            "flex": null,
            "_model_name": "LayoutModel",
            "justify_items": null,
            "grid_row": null,
            "max_height": null,
            "align_content": null,
            "visibility": null,
            "align_self": null,
            "height": null,
            "min_height": null,
            "padding": null,
            "grid_auto_rows": null,
            "grid_gap": null,
            "max_width": null,
            "order": null,
            "_view_module_version": "1.2.0",
            "grid_template_areas": null,
            "object_position": null,
            "object_fit": null,
            "grid_auto_columns": null,
            "margin": null,
            "display": null,
            "left": null
          }
        },
        "7287c769d4b542668b9cd4aaab13d1f7": {
          "model_module": "@jupyter-widgets/controls",
          "model_name": "DescriptionStyleModel",
          "state": {
            "_view_name": "StyleView",
            "_model_name": "DescriptionStyleModel",
            "description_width": "",
            "_view_module": "@jupyter-widgets/base",
            "_model_module_version": "1.5.0",
            "_view_count": null,
            "_view_module_version": "1.2.0",
            "_model_module": "@jupyter-widgets/controls"
          }
        },
        "f6c1988802704af8bfc6eb9e4ae66263": {
          "model_module": "@jupyter-widgets/base",
          "model_name": "LayoutModel",
          "state": {
            "_view_name": "LayoutView",
            "grid_template_rows": null,
            "right": null,
            "justify_content": null,
            "_view_module": "@jupyter-widgets/base",
            "overflow": null,
            "_model_module_version": "1.2.0",
            "_view_count": null,
            "flex_flow": null,
            "width": null,
            "min_width": null,
            "border": null,
            "align_items": null,
            "bottom": null,
            "_model_module": "@jupyter-widgets/base",
            "top": null,
            "grid_column": null,
            "overflow_y": null,
            "overflow_x": null,
            "grid_auto_flow": null,
            "grid_area": null,
            "grid_template_columns": null,
            "flex": null,
            "_model_name": "LayoutModel",
            "justify_items": null,
            "grid_row": null,
            "max_height": null,
            "align_content": null,
            "visibility": null,
            "align_self": null,
            "height": null,
            "min_height": null,
            "padding": null,
            "grid_auto_rows": null,
            "grid_gap": null,
            "max_width": null,
            "order": null,
            "_view_module_version": "1.2.0",
            "grid_template_areas": null,
            "object_position": null,
            "object_fit": null,
            "grid_auto_columns": null,
            "margin": null,
            "display": null,
            "left": null
          }
        },
        "e0a2ebe6f66e4b85a1c0bd14ce64aa85": {
          "model_module": "@jupyter-widgets/controls",
          "model_name": "HBoxModel",
          "state": {
            "_view_name": "HBoxView",
            "_dom_classes": [],
            "_model_name": "HBoxModel",
            "_view_module": "@jupyter-widgets/controls",
            "_model_module_version": "1.5.0",
            "_view_count": null,
            "_view_module_version": "1.5.0",
            "box_style": "",
            "layout": "IPY_MODEL_6377387227c34fc7b24b7a60448b9fbe",
            "_model_module": "@jupyter-widgets/controls",
            "children": [
              "IPY_MODEL_0296d67020274848a5d468608f857530",
              "IPY_MODEL_41505fb167264c5a819b795dc89ce950"
            ]
          }
        },
        "6377387227c34fc7b24b7a60448b9fbe": {
          "model_module": "@jupyter-widgets/base",
          "model_name": "LayoutModel",
          "state": {
            "_view_name": "LayoutView",
            "grid_template_rows": null,
            "right": null,
            "justify_content": null,
            "_view_module": "@jupyter-widgets/base",
            "overflow": null,
            "_model_module_version": "1.2.0",
            "_view_count": null,
            "flex_flow": null,
            "width": null,
            "min_width": null,
            "border": null,
            "align_items": null,
            "bottom": null,
            "_model_module": "@jupyter-widgets/base",
            "top": null,
            "grid_column": null,
            "overflow_y": null,
            "overflow_x": null,
            "grid_auto_flow": null,
            "grid_area": null,
            "grid_template_columns": null,
            "flex": null,
            "_model_name": "LayoutModel",
            "justify_items": null,
            "grid_row": null,
            "max_height": null,
            "align_content": null,
            "visibility": null,
            "align_self": null,
            "height": null,
            "min_height": null,
            "padding": null,
            "grid_auto_rows": null,
            "grid_gap": null,
            "max_width": null,
            "order": null,
            "_view_module_version": "1.2.0",
            "grid_template_areas": null,
            "object_position": null,
            "object_fit": null,
            "grid_auto_columns": null,
            "margin": null,
            "display": null,
            "left": null
          }
        },
        "0296d67020274848a5d468608f857530": {
          "model_module": "@jupyter-widgets/controls",
          "model_name": "FloatProgressModel",
          "state": {
            "_view_name": "ProgressView",
            "style": "IPY_MODEL_2ccf8f3f894c43ab9bb81d9abbfcdc0c",
            "_dom_classes": [],
            "description": "100%",
            "_model_name": "FloatProgressModel",
            "bar_style": "success",
            "max": 3086,
            "_view_module": "@jupyter-widgets/controls",
            "_model_module_version": "1.5.0",
            "value": 3086,
            "_view_count": null,
            "_view_module_version": "1.5.0",
            "orientation": "horizontal",
            "min": 0,
            "description_tooltip": null,
            "_model_module": "@jupyter-widgets/controls",
            "layout": "IPY_MODEL_1bcb6d136b7a4813bb057d39dbdd8838"
          }
        },
        "41505fb167264c5a819b795dc89ce950": {
          "model_module": "@jupyter-widgets/controls",
          "model_name": "HTMLModel",
          "state": {
            "_view_name": "HTMLView",
            "style": "IPY_MODEL_f99dc557c11e470683bad37a6f7bd45d",
            "_dom_classes": [],
            "description": "",
            "_model_name": "HTMLModel",
            "placeholder": "​",
            "_view_module": "@jupyter-widgets/controls",
            "_model_module_version": "1.5.0",
            "value": " 3086/3086 [02:40&lt;00:00, 19.17it/s]",
            "_view_count": null,
            "_view_module_version": "1.5.0",
            "description_tooltip": null,
            "_model_module": "@jupyter-widgets/controls",
            "layout": "IPY_MODEL_f5cf034173d745e4b353a7c15a555d96"
          }
        },
        "2ccf8f3f894c43ab9bb81d9abbfcdc0c": {
          "model_module": "@jupyter-widgets/controls",
          "model_name": "ProgressStyleModel",
          "state": {
            "_view_name": "StyleView",
            "_model_name": "ProgressStyleModel",
            "description_width": "initial",
            "_view_module": "@jupyter-widgets/base",
            "_model_module_version": "1.5.0",
            "_view_count": null,
            "_view_module_version": "1.2.0",
            "bar_color": null,
            "_model_module": "@jupyter-widgets/controls"
          }
        },
        "1bcb6d136b7a4813bb057d39dbdd8838": {
          "model_module": "@jupyter-widgets/base",
          "model_name": "LayoutModel",
          "state": {
            "_view_name": "LayoutView",
            "grid_template_rows": null,
            "right": null,
            "justify_content": null,
            "_view_module": "@jupyter-widgets/base",
            "overflow": null,
            "_model_module_version": "1.2.0",
            "_view_count": null,
            "flex_flow": null,
            "width": null,
            "min_width": null,
            "border": null,
            "align_items": null,
            "bottom": null,
            "_model_module": "@jupyter-widgets/base",
            "top": null,
            "grid_column": null,
            "overflow_y": null,
            "overflow_x": null,
            "grid_auto_flow": null,
            "grid_area": null,
            "grid_template_columns": null,
            "flex": null,
            "_model_name": "LayoutModel",
            "justify_items": null,
            "grid_row": null,
            "max_height": null,
            "align_content": null,
            "visibility": null,
            "align_self": null,
            "height": null,
            "min_height": null,
            "padding": null,
            "grid_auto_rows": null,
            "grid_gap": null,
            "max_width": null,
            "order": null,
            "_view_module_version": "1.2.0",
            "grid_template_areas": null,
            "object_position": null,
            "object_fit": null,
            "grid_auto_columns": null,
            "margin": null,
            "display": null,
            "left": null
          }
        },
        "f99dc557c11e470683bad37a6f7bd45d": {
          "model_module": "@jupyter-widgets/controls",
          "model_name": "DescriptionStyleModel",
          "state": {
            "_view_name": "StyleView",
            "_model_name": "DescriptionStyleModel",
            "description_width": "",
            "_view_module": "@jupyter-widgets/base",
            "_model_module_version": "1.5.0",
            "_view_count": null,
            "_view_module_version": "1.2.0",
            "_model_module": "@jupyter-widgets/controls"
          }
        },
        "f5cf034173d745e4b353a7c15a555d96": {
          "model_module": "@jupyter-widgets/base",
          "model_name": "LayoutModel",
          "state": {
            "_view_name": "LayoutView",
            "grid_template_rows": null,
            "right": null,
            "justify_content": null,
            "_view_module": "@jupyter-widgets/base",
            "overflow": null,
            "_model_module_version": "1.2.0",
            "_view_count": null,
            "flex_flow": null,
            "width": null,
            "min_width": null,
            "border": null,
            "align_items": null,
            "bottom": null,
            "_model_module": "@jupyter-widgets/base",
            "top": null,
            "grid_column": null,
            "overflow_y": null,
            "overflow_x": null,
            "grid_auto_flow": null,
            "grid_area": null,
            "grid_template_columns": null,
            "flex": null,
            "_model_name": "LayoutModel",
            "justify_items": null,
            "grid_row": null,
            "max_height": null,
            "align_content": null,
            "visibility": null,
            "align_self": null,
            "height": null,
            "min_height": null,
            "padding": null,
            "grid_auto_rows": null,
            "grid_gap": null,
            "max_width": null,
            "order": null,
            "_view_module_version": "1.2.0",
            "grid_template_areas": null,
            "object_position": null,
            "object_fit": null,
            "grid_auto_columns": null,
            "margin": null,
            "display": null,
            "left": null
          }
        },
        "bbb45f78579e410d94f23b00e0a1be03": {
          "model_module": "@jupyter-widgets/controls",
          "model_name": "HBoxModel",
          "state": {
            "_view_name": "HBoxView",
            "_dom_classes": [],
            "_model_name": "HBoxModel",
            "_view_module": "@jupyter-widgets/controls",
            "_model_module_version": "1.5.0",
            "_view_count": null,
            "_view_module_version": "1.5.0",
            "box_style": "",
            "layout": "IPY_MODEL_ba06e93f75884c159773d890d567021d",
            "_model_module": "@jupyter-widgets/controls",
            "children": [
              "IPY_MODEL_d18aa480219e4aff91082ab3555bd11b",
              "IPY_MODEL_6591d949021c4b1b8af458d5e415e111"
            ]
          }
        },
        "ba06e93f75884c159773d890d567021d": {
          "model_module": "@jupyter-widgets/base",
          "model_name": "LayoutModel",
          "state": {
            "_view_name": "LayoutView",
            "grid_template_rows": null,
            "right": null,
            "justify_content": null,
            "_view_module": "@jupyter-widgets/base",
            "overflow": null,
            "_model_module_version": "1.2.0",
            "_view_count": null,
            "flex_flow": null,
            "width": null,
            "min_width": null,
            "border": null,
            "align_items": null,
            "bottom": null,
            "_model_module": "@jupyter-widgets/base",
            "top": null,
            "grid_column": null,
            "overflow_y": null,
            "overflow_x": null,
            "grid_auto_flow": null,
            "grid_area": null,
            "grid_template_columns": null,
            "flex": null,
            "_model_name": "LayoutModel",
            "justify_items": null,
            "grid_row": null,
            "max_height": null,
            "align_content": null,
            "visibility": null,
            "align_self": null,
            "height": null,
            "min_height": null,
            "padding": null,
            "grid_auto_rows": null,
            "grid_gap": null,
            "max_width": null,
            "order": null,
            "_view_module_version": "1.2.0",
            "grid_template_areas": null,
            "object_position": null,
            "object_fit": null,
            "grid_auto_columns": null,
            "margin": null,
            "display": null,
            "left": null
          }
        },
        "d18aa480219e4aff91082ab3555bd11b": {
          "model_module": "@jupyter-widgets/controls",
          "model_name": "FloatProgressModel",
          "state": {
            "_view_name": "ProgressView",
            "style": "IPY_MODEL_7e57eac646044b1293181d782f6da7d8",
            "_dom_classes": [],
            "description": "Computing transition probabilities: 100%",
            "_model_name": "FloatProgressModel",
            "bar_style": "success",
            "max": 3289,
            "_view_module": "@jupyter-widgets/controls",
            "_model_module_version": "1.5.0",
            "value": 3289,
            "_view_count": null,
            "_view_module_version": "1.5.0",
            "orientation": "horizontal",
            "min": 0,
            "description_tooltip": null,
            "_model_module": "@jupyter-widgets/controls",
            "layout": "IPY_MODEL_eaaf7b1c98d949d6b5f137a78c8c2153"
          }
        },
        "6591d949021c4b1b8af458d5e415e111": {
          "model_module": "@jupyter-widgets/controls",
          "model_name": "HTMLModel",
          "state": {
            "_view_name": "HTMLView",
            "style": "IPY_MODEL_549f3a2c42d44b8e90902a0d6d011850",
            "_dom_classes": [],
            "description": "",
            "_model_name": "HTMLModel",
            "placeholder": "​",
            "_view_module": "@jupyter-widgets/controls",
            "_model_module_version": "1.5.0",
            "value": " 3289/3289 [00:00&lt;00:00, 4055.73it/s]",
            "_view_count": null,
            "_view_module_version": "1.5.0",
            "description_tooltip": null,
            "_model_module": "@jupyter-widgets/controls",
            "layout": "IPY_MODEL_9635c900b66a470198305c792022e50b"
          }
        },
        "7e57eac646044b1293181d782f6da7d8": {
          "model_module": "@jupyter-widgets/controls",
          "model_name": "ProgressStyleModel",
          "state": {
            "_view_name": "StyleView",
            "_model_name": "ProgressStyleModel",
            "description_width": "initial",
            "_view_module": "@jupyter-widgets/base",
            "_model_module_version": "1.5.0",
            "_view_count": null,
            "_view_module_version": "1.2.0",
            "bar_color": null,
            "_model_module": "@jupyter-widgets/controls"
          }
        },
        "eaaf7b1c98d949d6b5f137a78c8c2153": {
          "model_module": "@jupyter-widgets/base",
          "model_name": "LayoutModel",
          "state": {
            "_view_name": "LayoutView",
            "grid_template_rows": null,
            "right": null,
            "justify_content": null,
            "_view_module": "@jupyter-widgets/base",
            "overflow": null,
            "_model_module_version": "1.2.0",
            "_view_count": null,
            "flex_flow": null,
            "width": null,
            "min_width": null,
            "border": null,
            "align_items": null,
            "bottom": null,
            "_model_module": "@jupyter-widgets/base",
            "top": null,
            "grid_column": null,
            "overflow_y": null,
            "overflow_x": null,
            "grid_auto_flow": null,
            "grid_area": null,
            "grid_template_columns": null,
            "flex": null,
            "_model_name": "LayoutModel",
            "justify_items": null,
            "grid_row": null,
            "max_height": null,
            "align_content": null,
            "visibility": null,
            "align_self": null,
            "height": null,
            "min_height": null,
            "padding": null,
            "grid_auto_rows": null,
            "grid_gap": null,
            "max_width": null,
            "order": null,
            "_view_module_version": "1.2.0",
            "grid_template_areas": null,
            "object_position": null,
            "object_fit": null,
            "grid_auto_columns": null,
            "margin": null,
            "display": null,
            "left": null
          }
        },
        "549f3a2c42d44b8e90902a0d6d011850": {
          "model_module": "@jupyter-widgets/controls",
          "model_name": "DescriptionStyleModel",
          "state": {
            "_view_name": "StyleView",
            "_model_name": "DescriptionStyleModel",
            "description_width": "",
            "_view_module": "@jupyter-widgets/base",
            "_model_module_version": "1.5.0",
            "_view_count": null,
            "_view_module_version": "1.2.0",
            "_model_module": "@jupyter-widgets/controls"
          }
        },
        "9635c900b66a470198305c792022e50b": {
          "model_module": "@jupyter-widgets/base",
          "model_name": "LayoutModel",
          "state": {
            "_view_name": "LayoutView",
            "grid_template_rows": null,
            "right": null,
            "justify_content": null,
            "_view_module": "@jupyter-widgets/base",
            "overflow": null,
            "_model_module_version": "1.2.0",
            "_view_count": null,
            "flex_flow": null,
            "width": null,
            "min_width": null,
            "border": null,
            "align_items": null,
            "bottom": null,
            "_model_module": "@jupyter-widgets/base",
            "top": null,
            "grid_column": null,
            "overflow_y": null,
            "overflow_x": null,
            "grid_auto_flow": null,
            "grid_area": null,
            "grid_template_columns": null,
            "flex": null,
            "_model_name": "LayoutModel",
            "justify_items": null,
            "grid_row": null,
            "max_height": null,
            "align_content": null,
            "visibility": null,
            "align_self": null,
            "height": null,
            "min_height": null,
            "padding": null,
            "grid_auto_rows": null,
            "grid_gap": null,
            "max_width": null,
            "order": null,
            "_view_module_version": "1.2.0",
            "grid_template_areas": null,
            "object_position": null,
            "object_fit": null,
            "grid_auto_columns": null,
            "margin": null,
            "display": null,
            "left": null
          }
        },
        "a65fe57f66544638899d7463264e6875": {
          "model_module": "@jupyter-widgets/controls",
          "model_name": "HBoxModel",
          "state": {
            "_view_name": "HBoxView",
            "_dom_classes": [],
            "_model_name": "HBoxModel",
            "_view_module": "@jupyter-widgets/controls",
            "_model_module_version": "1.5.0",
            "_view_count": null,
            "_view_module_version": "1.5.0",
            "box_style": "",
            "layout": "IPY_MODEL_c63d6304c72849b58aea323758f8dd80",
            "_model_module": "@jupyter-widgets/controls",
            "children": [
              "IPY_MODEL_d81a5a636603496fafb00315c3cc9049",
              "IPY_MODEL_c569675566d64559b9e854bf0493c79e"
            ]
          }
        },
        "c63d6304c72849b58aea323758f8dd80": {
          "model_module": "@jupyter-widgets/base",
          "model_name": "LayoutModel",
          "state": {
            "_view_name": "LayoutView",
            "grid_template_rows": null,
            "right": null,
            "justify_content": null,
            "_view_module": "@jupyter-widgets/base",
            "overflow": null,
            "_model_module_version": "1.2.0",
            "_view_count": null,
            "flex_flow": null,
            "width": null,
            "min_width": null,
            "border": null,
            "align_items": null,
            "bottom": null,
            "_model_module": "@jupyter-widgets/base",
            "top": null,
            "grid_column": null,
            "overflow_y": null,
            "overflow_x": null,
            "grid_auto_flow": null,
            "grid_area": null,
            "grid_template_columns": null,
            "flex": null,
            "_model_name": "LayoutModel",
            "justify_items": null,
            "grid_row": null,
            "max_height": null,
            "align_content": null,
            "visibility": null,
            "align_self": null,
            "height": null,
            "min_height": null,
            "padding": null,
            "grid_auto_rows": null,
            "grid_gap": null,
            "max_width": null,
            "order": null,
            "_view_module_version": "1.2.0",
            "grid_template_areas": null,
            "object_position": null,
            "object_fit": null,
            "grid_auto_columns": null,
            "margin": null,
            "display": null,
            "left": null
          }
        },
        "d81a5a636603496fafb00315c3cc9049": {
          "model_module": "@jupyter-widgets/controls",
          "model_name": "FloatProgressModel",
          "state": {
            "_view_name": "ProgressView",
            "style": "IPY_MODEL_4c5d1737a2a6440599b2e3b08c83ba55",
            "_dom_classes": [],
            "description": "100%",
            "_model_name": "FloatProgressModel",
            "bar_style": "success",
            "max": 756,
            "_view_module": "@jupyter-widgets/controls",
            "_model_module_version": "1.5.0",
            "value": 756,
            "_view_count": null,
            "_view_module_version": "1.5.0",
            "orientation": "horizontal",
            "min": 0,
            "description_tooltip": null,
            "_model_module": "@jupyter-widgets/controls",
            "layout": "IPY_MODEL_e3e51c3bfbb244aeaead8ba63cb12ca1"
          }
        },
        "c569675566d64559b9e854bf0493c79e": {
          "model_module": "@jupyter-widgets/controls",
          "model_name": "HTMLModel",
          "state": {
            "_view_name": "HTMLView",
            "style": "IPY_MODEL_6c9a18b46c3d43c3abcba1da1c322a24",
            "_dom_classes": [],
            "description": "",
            "_model_name": "HTMLModel",
            "placeholder": "​",
            "_view_module": "@jupyter-widgets/controls",
            "_model_module_version": "1.5.0",
            "value": " 756/756 [00:44&lt;00:00, 16.89it/s]",
            "_view_count": null,
            "_view_module_version": "1.5.0",
            "description_tooltip": null,
            "_model_module": "@jupyter-widgets/controls",
            "layout": "IPY_MODEL_3c2be0b4e46547c297003427e71a436c"
          }
        },
        "4c5d1737a2a6440599b2e3b08c83ba55": {
          "model_module": "@jupyter-widgets/controls",
          "model_name": "ProgressStyleModel",
          "state": {
            "_view_name": "StyleView",
            "_model_name": "ProgressStyleModel",
            "description_width": "initial",
            "_view_module": "@jupyter-widgets/base",
            "_model_module_version": "1.5.0",
            "_view_count": null,
            "_view_module_version": "1.2.0",
            "bar_color": null,
            "_model_module": "@jupyter-widgets/controls"
          }
        },
        "e3e51c3bfbb244aeaead8ba63cb12ca1": {
          "model_module": "@jupyter-widgets/base",
          "model_name": "LayoutModel",
          "state": {
            "_view_name": "LayoutView",
            "grid_template_rows": null,
            "right": null,
            "justify_content": null,
            "_view_module": "@jupyter-widgets/base",
            "overflow": null,
            "_model_module_version": "1.2.0",
            "_view_count": null,
            "flex_flow": null,
            "width": null,
            "min_width": null,
            "border": null,
            "align_items": null,
            "bottom": null,
            "_model_module": "@jupyter-widgets/base",
            "top": null,
            "grid_column": null,
            "overflow_y": null,
            "overflow_x": null,
            "grid_auto_flow": null,
            "grid_area": null,
            "grid_template_columns": null,
            "flex": null,
            "_model_name": "LayoutModel",
            "justify_items": null,
            "grid_row": null,
            "max_height": null,
            "align_content": null,
            "visibility": null,
            "align_self": null,
            "height": null,
            "min_height": null,
            "padding": null,
            "grid_auto_rows": null,
            "grid_gap": null,
            "max_width": null,
            "order": null,
            "_view_module_version": "1.2.0",
            "grid_template_areas": null,
            "object_position": null,
            "object_fit": null,
            "grid_auto_columns": null,
            "margin": null,
            "display": null,
            "left": null
          }
        },
        "6c9a18b46c3d43c3abcba1da1c322a24": {
          "model_module": "@jupyter-widgets/controls",
          "model_name": "DescriptionStyleModel",
          "state": {
            "_view_name": "StyleView",
            "_model_name": "DescriptionStyleModel",
            "description_width": "",
            "_view_module": "@jupyter-widgets/base",
            "_model_module_version": "1.5.0",
            "_view_count": null,
            "_view_module_version": "1.2.0",
            "_model_module": "@jupyter-widgets/controls"
          }
        },
        "3c2be0b4e46547c297003427e71a436c": {
          "model_module": "@jupyter-widgets/base",
          "model_name": "LayoutModel",
          "state": {
            "_view_name": "LayoutView",
            "grid_template_rows": null,
            "right": null,
            "justify_content": null,
            "_view_module": "@jupyter-widgets/base",
            "overflow": null,
            "_model_module_version": "1.2.0",
            "_view_count": null,
            "flex_flow": null,
            "width": null,
            "min_width": null,
            "border": null,
            "align_items": null,
            "bottom": null,
            "_model_module": "@jupyter-widgets/base",
            "top": null,
            "grid_column": null,
            "overflow_y": null,
            "overflow_x": null,
            "grid_auto_flow": null,
            "grid_area": null,
            "grid_template_columns": null,
            "flex": null,
            "_model_name": "LayoutModel",
            "justify_items": null,
            "grid_row": null,
            "max_height": null,
            "align_content": null,
            "visibility": null,
            "align_self": null,
            "height": null,
            "min_height": null,
            "padding": null,
            "grid_auto_rows": null,
            "grid_gap": null,
            "max_width": null,
            "order": null,
            "_view_module_version": "1.2.0",
            "grid_template_areas": null,
            "object_position": null,
            "object_fit": null,
            "grid_auto_columns": null,
            "margin": null,
            "display": null,
            "left": null
          }
        }
      }
    }
  },
  "cells": [
    {
      "cell_type": "markdown",
      "metadata": {
        "id": "VilSKYKC-QF_"
      },
      "source": [
        "# Data cleaning and link prediction between actors"
      ]
    },
    {
      "cell_type": "markdown",
      "metadata": {
        "id": "MokCPhqY-I3U"
      },
      "source": [
        "## Necessary libraries"
      ]
    },
    {
      "cell_type": "code",
      "metadata": {
        "id": "z8WTexso9Zuf"
      },
      "source": [
        "import pandas as pd\n",
        "import networkx as nx\n",
        "from tqdm import tqdm_notebook as tqdm\n",
        "import itertools\n",
        "import matplotlib.pyplot as plt\n",
        "import numpy as np\n",
        "import pickle"
      ],
      "execution_count": null,
      "outputs": []
    },
    {
      "cell_type": "markdown",
      "metadata": {
        "id": "C5WQQ8VamKMs"
      },
      "source": [
        "## Link prediction"
      ]
    },
    {
      "cell_type": "markdown",
      "metadata": {
        "id": "f9Y_fYrS-DUu"
      },
      "source": [
        "### Read in pickles from github"
      ]
    },
    {
      "cell_type": "code",
      "metadata": {
        "colab": {
          "base_uri": "https://localhost:8080/"
        },
        "id": "9a2GpLitmVuA",
        "outputId": "53c9a6c7-46ac-476d-fb56-2e7fd4173e86"
      },
      "source": [
        "!rm -rf actors-collaboration # removing the folder so it wouldn't duplicate it\n",
        "!git clone https://github.com/kkristjank/actors-collaboration.git\n",
        "!cp -R actors-collaboration/graph_train.gpickle . # copying the graph_train.gpickle from the subfolder to main folder\n",
        "!cp -R actors-collaboration/graph_test.gpickle . # copying the graph_test.gpickle from the subfolder to main folder\n",
        "!cp -R actors-collaboration/df_train . # copying the df_train from the subfolder to main folder\n",
        "!cp -R actors-collaboration/df_test . # copying the df_test from the subfolder to main folder"
      ],
      "execution_count": null,
      "outputs": [
        {
          "output_type": "stream",
          "text": [
            "Cloning into 'actors-collaboration'...\n",
            "remote: Enumerating objects: 79, done.\u001b[K\n",
            "remote: Counting objects: 100% (79/79), done.\u001b[K\n",
            "remote: Compressing objects: 100% (75/75), done.\u001b[K\n",
            "remote: Total 79 (delta 26), reused 0 (delta 0), pack-reused 0\u001b[K\n",
            "Unpacking objects: 100% (79/79), done.\n"
          ],
          "name": "stdout"
        }
      ]
    },
    {
      "cell_type": "markdown",
      "metadata": {
        "id": "Sk4MIvef6nMx"
      },
      "source": [
        "### DataFrame - removing actors who are connected only due to one movie"
      ]
    },
    {
      "cell_type": "code",
      "metadata": {
        "id": "uAoC848_wimc"
      },
      "source": [
        "df = pd.read_pickle(\"df_train\")"
      ],
      "execution_count": null,
      "outputs": []
    },
    {
      "cell_type": "code",
      "metadata": {
        "id": "vq22aOy94P2M"
      },
      "source": [
        "df2 = df.groupby([\"actor1\", \"actor2\"]).size().reset_index(name=\"NbrOfMovies\")"
      ],
      "execution_count": null,
      "outputs": []
    },
    {
      "cell_type": "code",
      "metadata": {
        "id": "nwtzGB4D5788"
      },
      "source": [
        "df3 = df2[df2.NbrOfMovies > 1]"
      ],
      "execution_count": null,
      "outputs": []
    },
    {
      "cell_type": "code",
      "metadata": {
        "id": "B8lIg2JB7acH"
      },
      "source": [
        "df = df3"
      ],
      "execution_count": null,
      "outputs": []
    },
    {
      "cell_type": "code",
      "metadata": {
        "id": "7FPJlNecKa8H"
      },
      "source": [
        "df = df.drop(columns=[\"NbrOfMovies\"])\n",
        "df[\"link\"] = 1"
      ],
      "execution_count": null,
      "outputs": []
    },
    {
      "cell_type": "code",
      "metadata": {
        "id": "JTe-hY7cKfsU"
      },
      "source": [
        "G = nx.from_pandas_edgelist(df, \"actor1\", \"actor2\", create_using=nx.Graph())"
      ],
      "execution_count": null,
      "outputs": []
    },
    {
      "cell_type": "markdown",
      "metadata": {
        "id": "kOf40387zASM"
      },
      "source": [
        "### Node list and adjacency matrix"
      ]
    },
    {
      "cell_type": "code",
      "metadata": {
        "id": "xHEn4Xna5B4-",
        "colab": {
          "base_uri": "https://localhost:8080/"
        },
        "outputId": "c27e92ed-5de8-4a95-970d-87fda1e0277b"
      },
      "source": [
        "# combine all nodes in a list\n",
        "node_list = np.unique(G.nodes)\n",
        "len(node_list)"
      ],
      "execution_count": null,
      "outputs": [
        {
          "output_type": "execute_result",
          "data": {
            "text/plain": [
              "3289"
            ]
          },
          "metadata": {
            "tags": []
          },
          "execution_count": 9
        }
      ]
    },
    {
      "cell_type": "code",
      "metadata": {
        "id": "GbrPIvJXy_u8"
      },
      "source": [
        "# build adjacency matrix\n",
        "adj_G = nx.to_numpy_matrix(G, nodelist = node_list)"
      ],
      "execution_count": null,
      "outputs": []
    },
    {
      "cell_type": "markdown",
      "metadata": {
        "id": "YRKSoFYy-7AI"
      },
      "source": [
        "### Unconnected node-pairs"
      ]
    },
    {
      "cell_type": "code",
      "metadata": {
        "colab": {
          "base_uri": "https://localhost:8080/",
          "height": 117,
          "referenced_widgets": [
            "8b63e53ff9a64ad0b38609025494f668",
            "d9cdb3aea9b0434fa63c6e84c01a0119",
            "ea918744ff654bb5992788c2c11ff586",
            "c249dec8553f4c07bd696546322acec8",
            "bc3b77421d88458e8aa663a20fdbf571",
            "37e5b01e360c465cb8c6dc8f4df9e4a5",
            "7287c769d4b542668b9cd4aaab13d1f7",
            "f6c1988802704af8bfc6eb9e4ae66263"
          ]
        },
        "id": "KgNJKxPX9gHP",
        "outputId": "b5426eb2-e535-40a4-c347-c478cc49cd7c"
      },
      "source": [
        "# get unconnected node-pairs\n",
        "all_unconnected_pairs = []\n",
        "\n",
        "# traverse adjacency matrix\n",
        "offset = 0\n",
        "for i in tqdm(range(adj_G.shape[0])):\n",
        "  for j in range(offset,adj_G.shape[1]):\n",
        "    if i != j:      \n",
        "      try:\n",
        "        if nx.shortest_path_length(G, node_list[i], node_list[j]) <=2:\n",
        "          if adj_G[i,j] == 0:\n",
        "            all_unconnected_pairs.append([node_list[i],node_list[j]])\n",
        "      except:\n",
        "        pass\n",
        "\n",
        "  offset = offset + 1"
      ],
      "execution_count": null,
      "outputs": [
        {
          "output_type": "stream",
          "text": [
            "/usr/local/lib/python3.7/dist-packages/ipykernel_launcher.py:6: TqdmDeprecationWarning: This function will be removed in tqdm==5.0.0\n",
            "Please use `tqdm.notebook.tqdm` instead of `tqdm.tqdm_notebook`\n",
            "  \n"
          ],
          "name": "stderr"
        },
        {
          "output_type": "display_data",
          "data": {
            "application/vnd.jupyter.widget-view+json": {
              "model_id": "8b63e53ff9a64ad0b38609025494f668",
              "version_minor": 0,
              "version_major": 2
            },
            "text/plain": [
              "HBox(children=(FloatProgress(value=0.0, max=3289.0), HTML(value='')))"
            ]
          },
          "metadata": {
            "tags": []
          }
        },
        {
          "output_type": "stream",
          "text": [
            "\n"
          ],
          "name": "stdout"
        }
      ]
    },
    {
      "cell_type": "code",
      "metadata": {
        "id": "yQbPVvXb_Vtk"
      },
      "source": [
        "node_1_unlinked = [i[0] for i in all_unconnected_pairs]\n",
        "node_2_unlinked = [i[1] for i in all_unconnected_pairs]\n",
        "\n",
        "data = pd.DataFrame({'actor1':node_1_unlinked, \n",
        "                     'actor2':node_2_unlinked})\n",
        "\n",
        "# add target variable 'link'\n",
        "data['link'] = 0"
      ],
      "execution_count": null,
      "outputs": []
    },
    {
      "cell_type": "markdown",
      "metadata": {
        "id": "cPDH8Lx1_BAA"
      },
      "source": [
        "### Omissible links"
      ]
    },
    {
      "cell_type": "code",
      "metadata": {
        "id": "d4c-0-4c_ZI0",
        "colab": {
          "base_uri": "https://localhost:8080/",
          "height": 117,
          "referenced_widgets": [
            "e0a2ebe6f66e4b85a1c0bd14ce64aa85",
            "6377387227c34fc7b24b7a60448b9fbe",
            "0296d67020274848a5d468608f857530",
            "41505fb167264c5a819b795dc89ce950",
            "2ccf8f3f894c43ab9bb81d9abbfcdc0c",
            "1bcb6d136b7a4813bb057d39dbdd8838",
            "f99dc557c11e470683bad37a6f7bd45d",
            "f5cf034173d745e4b353a7c15a555d96"
          ]
        },
        "outputId": "edbb20c1-6a12-4afc-9413-c9aa0688bb80"
      },
      "source": [
        "# Removing links from connected node pairs - positive samples - to have smth with target = 1\n",
        "initial_node_count = len(G.nodes)\n",
        "ncc = nx.number_connected_components(G)\n",
        "\n",
        "df_temp = df.copy()\n",
        "\n",
        "# empty list to store removable links\n",
        "omissible_links_index = []\n",
        "\n",
        "for i in tqdm(df.index.values):\n",
        "  \n",
        "  # remove a node pair and build a new graph\n",
        "  G_temp = nx.from_pandas_edgelist(df_temp.drop(index = i), \"actor1\", \"actor2\", create_using=nx.Graph())\n",
        "  \n",
        "  # check there is no spliting of graph and number of nodes is same\n",
        "  if (nx.number_connected_components(G_temp) == ncc) and (len(G_temp.nodes) == initial_node_count):\n",
        "    omissible_links_index.append(i)\n",
        "    df_temp = df_temp.drop(index = i)"
      ],
      "execution_count": null,
      "outputs": [
        {
          "output_type": "stream",
          "text": [
            "/usr/local/lib/python3.7/dist-packages/ipykernel_launcher.py:10: TqdmDeprecationWarning: This function will be removed in tqdm==5.0.0\n",
            "Please use `tqdm.notebook.tqdm` instead of `tqdm.tqdm_notebook`\n",
            "  # Remove the CWD from sys.path while we load stuff.\n"
          ],
          "name": "stderr"
        },
        {
          "output_type": "display_data",
          "data": {
            "application/vnd.jupyter.widget-view+json": {
              "model_id": "e0a2ebe6f66e4b85a1c0bd14ce64aa85",
              "version_minor": 0,
              "version_major": 2
            },
            "text/plain": [
              "HBox(children=(FloatProgress(value=0.0, max=3086.0), HTML(value='')))"
            ]
          },
          "metadata": {
            "tags": []
          }
        },
        {
          "output_type": "stream",
          "text": [
            "\n"
          ],
          "name": "stdout"
        }
      ]
    },
    {
      "cell_type": "code",
      "metadata": {
        "id": "I7kXFmqsP-Ia"
      },
      "source": [
        "# create dataframe of removable edges\n",
        "df_ghost = df.loc[omissible_links_index]\n",
        "\n",
        "# add the target variable 'link'\n",
        "df_ghost['link'] = 1\n",
        "\n",
        "data = data.append(df_ghost[['actor1', 'actor2', 'link']], ignore_index=True)"
      ],
      "execution_count": null,
      "outputs": []
    },
    {
      "cell_type": "code",
      "metadata": {
        "colab": {
          "base_uri": "https://localhost:8080/"
        },
        "id": "n6Pg5umVQFpJ",
        "outputId": "d5321a9d-333d-4dab-a9b3-a0c127713c87"
      },
      "source": [
        "data['link'].value_counts()"
      ],
      "execution_count": null,
      "outputs": [
        {
          "output_type": "execute_result",
          "data": {
            "text/plain": [
              "0    2553\n",
              "1     804\n",
              "Name: link, dtype: int64"
            ]
          },
          "metadata": {
            "tags": []
          },
          "execution_count": 15
        }
      ]
    },
    {
      "cell_type": "code",
      "metadata": {
        "id": "YUnISsdEOkDC"
      },
      "source": [
        "# drop removable edges\n",
        "df_partial = df.drop(index=df_ghost.index.values)\n",
        "\n",
        "# build graph\n",
        "G_data = nx.from_pandas_edgelist(df_partial, \"actor1\", \"actor2\", create_using=nx.Graph())"
      ],
      "execution_count": null,
      "outputs": []
    },
    {
      "cell_type": "markdown",
      "metadata": {
        "id": "5uqdXgvc7VCE"
      },
      "source": [
        "### Node2Vec"
      ]
    },
    {
      "cell_type": "code",
      "metadata": {
        "colab": {
          "base_uri": "https://localhost:8080/",
          "height": 100,
          "referenced_widgets": [
            "bbb45f78579e410d94f23b00e0a1be03",
            "ba06e93f75884c159773d890d567021d",
            "d18aa480219e4aff91082ab3555bd11b",
            "6591d949021c4b1b8af458d5e415e111",
            "7e57eac646044b1293181d782f6da7d8",
            "eaaf7b1c98d949d6b5f137a78c8c2153",
            "549f3a2c42d44b8e90902a0d6d011850",
            "9635c900b66a470198305c792022e50b"
          ]
        },
        "id": "BSmwKQtswNth",
        "outputId": "141f8227-c39f-4719-d014-b4d0cc44b946"
      },
      "source": [
        "!pip install node2vec -q\n",
        "from node2vec import Node2Vec\n",
        "\n",
        "# Generate walks\n",
        "node2vec = Node2Vec(G_data, dimensions=100, walk_length=16, num_walks=50)\n",
        "\n",
        "# train node2vec model\n",
        "n2w_model = node2vec.fit(window=7, min_count=1)"
      ],
      "execution_count": null,
      "outputs": [
        {
          "output_type": "stream",
          "text": [
            "  Building wheel for node2vec (setup.py) ... \u001b[?25l\u001b[?25hdone\n"
          ],
          "name": "stdout"
        },
        {
          "output_type": "display_data",
          "data": {
            "application/vnd.jupyter.widget-view+json": {
              "model_id": "bbb45f78579e410d94f23b00e0a1be03",
              "version_minor": 0,
              "version_major": 2
            },
            "text/plain": [
              "HBox(children=(FloatProgress(value=0.0, description='Computing transition probabilities', max=3289.0, style=Pr…"
            ]
          },
          "metadata": {
            "tags": []
          }
        },
        {
          "output_type": "stream",
          "text": [
            "\rGenerating walks (CPU: 1):   0%|          | 0/50 [00:00<?, ?it/s]"
          ],
          "name": "stderr"
        },
        {
          "output_type": "stream",
          "text": [
            "\n"
          ],
          "name": "stdout"
        },
        {
          "output_type": "stream",
          "text": [
            "Generating walks (CPU: 1): 100%|██████████| 50/50 [01:35<00:00,  1.90s/it]\n"
          ],
          "name": "stderr"
        }
      ]
    },
    {
      "cell_type": "code",
      "metadata": {
        "id": "ejTPz0lVzHE1",
        "colab": {
          "base_uri": "https://localhost:8080/"
        },
        "outputId": "0429b40a-5c02-4bb5-e4c4-8a3b50c8f70c"
      },
      "source": [
        "x = [(n2w_model[str(i)]+n2w_model[str(j)]) for i,j in zip(data['actor1'], data['actor2'])]"
      ],
      "execution_count": null,
      "outputs": [
        {
          "output_type": "stream",
          "text": [
            "/usr/local/lib/python3.7/dist-packages/ipykernel_launcher.py:1: DeprecationWarning: Call to deprecated `__getitem__` (Method will be removed in 4.0.0, use self.wv.__getitem__() instead).\n",
            "  \"\"\"Entry point for launching an IPython kernel.\n"
          ],
          "name": "stderr"
        }
      ]
    },
    {
      "cell_type": "markdown",
      "metadata": {
        "id": "sZr3wE1r7QVt"
      },
      "source": [
        "### Train and test data splitting"
      ]
    },
    {
      "cell_type": "code",
      "metadata": {
        "id": "SgpB0arAzIa3"
      },
      "source": [
        "from sklearn.model_selection import train_test_split\n",
        "from sklearn.metrics import roc_auc_score, accuracy_score\n",
        "\n",
        "xtrain, xtest, ytrain, ytest = train_test_split(np.array(x), data['link'], \n",
        "                                                test_size = 0.3)"
      ],
      "execution_count": null,
      "outputs": []
    },
    {
      "cell_type": "markdown",
      "metadata": {
        "id": "HsxfNjJV7HhJ"
      },
      "source": [
        "### Logistic Regression"
      ]
    },
    {
      "cell_type": "code",
      "metadata": {
        "colab": {
          "base_uri": "https://localhost:8080/"
        },
        "id": "lnOaJy_w7ENG",
        "outputId": "d0d443c3-a6af-4fab-ded3-b7bd4bf35a71"
      },
      "source": [
        "from sklearn.linear_model import LogisticRegression\n",
        "lr = LogisticRegression(class_weight=\"balanced\")\n",
        "\n",
        "lr.fit(xtrain, ytrain)"
      ],
      "execution_count": null,
      "outputs": [
        {
          "output_type": "execute_result",
          "data": {
            "text/plain": [
              "LogisticRegression(C=1.0, class_weight='balanced', dual=False,\n",
              "                   fit_intercept=True, intercept_scaling=1, l1_ratio=None,\n",
              "                   max_iter=100, multi_class='auto', n_jobs=None, penalty='l2',\n",
              "                   random_state=None, solver='lbfgs', tol=0.0001, verbose=0,\n",
              "                   warm_start=False)"
            ]
          },
          "metadata": {
            "tags": []
          },
          "execution_count": 20
        }
      ]
    },
    {
      "cell_type": "code",
      "metadata": {
        "id": "DHIbY3aQzPz2",
        "colab": {
          "base_uri": "https://localhost:8080/"
        },
        "outputId": "29d547d5-c86f-4732-a076-6fc59767a99a"
      },
      "source": [
        "predictions = lr.predict_proba(xtest)\n",
        "roc_auc_score(ytest, predictions[:,1])"
      ],
      "execution_count": null,
      "outputs": [
        {
          "output_type": "execute_result",
          "data": {
            "text/plain": [
              "0.6967180409327169"
            ]
          },
          "metadata": {
            "tags": []
          },
          "execution_count": 21
        }
      ]
    },
    {
      "cell_type": "code",
      "metadata": {
        "colab": {
          "base_uri": "https://localhost:8080/"
        },
        "id": "9MxMsam27zcj",
        "outputId": "dbe8daba-ef2c-45e2-c146-238f036188a3"
      },
      "source": [
        "y_pred = lr.predict(xtest)\n",
        "accuracy_score(ytest, y_pred)"
      ],
      "execution_count": null,
      "outputs": [
        {
          "output_type": "execute_result",
          "data": {
            "text/plain": [
              "0.6984126984126984"
            ]
          },
          "metadata": {
            "tags": []
          },
          "execution_count": 22
        }
      ]
    },
    {
      "cell_type": "markdown",
      "metadata": {
        "id": "14VApuj_6_WY"
      },
      "source": [
        "### Random Forest Classifier"
      ]
    },
    {
      "cell_type": "code",
      "metadata": {
        "colab": {
          "base_uri": "https://localhost:8080/"
        },
        "id": "BAli_06nOVqL",
        "outputId": "44c7ab3e-b640-430c-a0eb-5347ae7e536a"
      },
      "source": [
        "from sklearn.ensemble import RandomForestClassifier\n",
        "rfc = RandomForestClassifier()\n",
        "\n",
        "rfc.fit(xtrain, ytrain)"
      ],
      "execution_count": null,
      "outputs": [
        {
          "output_type": "execute_result",
          "data": {
            "text/plain": [
              "RandomForestClassifier(bootstrap=True, ccp_alpha=0.0, class_weight=None,\n",
              "                       criterion='gini', max_depth=None, max_features='auto',\n",
              "                       max_leaf_nodes=None, max_samples=None,\n",
              "                       min_impurity_decrease=0.0, min_impurity_split=None,\n",
              "                       min_samples_leaf=1, min_samples_split=2,\n",
              "                       min_weight_fraction_leaf=0.0, n_estimators=100,\n",
              "                       n_jobs=None, oob_score=False, random_state=None,\n",
              "                       verbose=0, warm_start=False)"
            ]
          },
          "metadata": {
            "tags": []
          },
          "execution_count": 23
        }
      ]
    },
    {
      "cell_type": "code",
      "metadata": {
        "colab": {
          "base_uri": "https://localhost:8080/"
        },
        "id": "4r43PJ16OVze",
        "outputId": "422d3112-ca65-4859-bd6d-35c878e72ebf"
      },
      "source": [
        "predictions = rfc.predict_proba(xtest)\n",
        "roc_auc_score(ytest, predictions[:,1])"
      ],
      "execution_count": null,
      "outputs": [
        {
          "output_type": "execute_result",
          "data": {
            "text/plain": [
              "0.795738081684551"
            ]
          },
          "metadata": {
            "tags": []
          },
          "execution_count": 24
        }
      ]
    },
    {
      "cell_type": "code",
      "metadata": {
        "colab": {
          "base_uri": "https://localhost:8080/"
        },
        "id": "oTJNa1TSQ5rW",
        "outputId": "7c69e0ab-3c5f-4756-8251-6e365cd22f67"
      },
      "source": [
        "y_pred = rfc.predict(xtest)\n",
        "accuracy_score(ytest, y_pred)"
      ],
      "execution_count": null,
      "outputs": [
        {
          "output_type": "execute_result",
          "data": {
            "text/plain": [
              "0.816468253968254"
            ]
          },
          "metadata": {
            "tags": []
          },
          "execution_count": 25
        }
      ]
    },
    {
      "cell_type": "markdown",
      "metadata": {
        "id": "Jg9AJw-D65qN"
      },
      "source": [
        "### MLP Classifier"
      ]
    },
    {
      "cell_type": "code",
      "metadata": {
        "colab": {
          "base_uri": "https://localhost:8080/"
        },
        "id": "cS3pjXqRPGlj",
        "outputId": "f1518ea6-fba8-42c9-99dd-43bd96069281"
      },
      "source": [
        "from sklearn.neural_network import MLPClassifier\n",
        "mlpc = MLPClassifier(random_state=1, max_iter=300)\n",
        "\n",
        "mlpc.fit(xtrain, ytrain)"
      ],
      "execution_count": null,
      "outputs": [
        {
          "output_type": "execute_result",
          "data": {
            "text/plain": [
              "MLPClassifier(activation='relu', alpha=0.0001, batch_size='auto', beta_1=0.9,\n",
              "              beta_2=0.999, early_stopping=False, epsilon=1e-08,\n",
              "              hidden_layer_sizes=(100,), learning_rate='constant',\n",
              "              learning_rate_init=0.001, max_fun=15000, max_iter=300,\n",
              "              momentum=0.9, n_iter_no_change=10, nesterovs_momentum=True,\n",
              "              power_t=0.5, random_state=1, shuffle=True, solver='adam',\n",
              "              tol=0.0001, validation_fraction=0.1, verbose=False,\n",
              "              warm_start=False)"
            ]
          },
          "metadata": {
            "tags": []
          },
          "execution_count": 26
        }
      ]
    },
    {
      "cell_type": "code",
      "metadata": {
        "colab": {
          "base_uri": "https://localhost:8080/"
        },
        "id": "pSkpVPjnPGqb",
        "outputId": "73ef03fc-83b1-4ad2-f3f3-89fbbb506d57"
      },
      "source": [
        "predictions = mlpc.predict_proba(xtest)\n",
        "roc_auc_score(ytest, predictions[:,1])"
      ],
      "execution_count": null,
      "outputs": [
        {
          "output_type": "execute_result",
          "data": {
            "text/plain": [
              "0.7290056233274991"
            ]
          },
          "metadata": {
            "tags": []
          },
          "execution_count": 27
        }
      ]
    },
    {
      "cell_type": "code",
      "metadata": {
        "colab": {
          "base_uri": "https://localhost:8080/"
        },
        "id": "3AWLBgkU71Ih",
        "outputId": "d273c551-9851-466d-9e99-2a32c3c2adfd"
      },
      "source": [
        "y_pred = mlpc.predict(xtest)\n",
        "accuracy_score(ytest, y_pred)"
      ],
      "execution_count": null,
      "outputs": [
        {
          "output_type": "execute_result",
          "data": {
            "text/plain": [
              "0.8095238095238095"
            ]
          },
          "metadata": {
            "tags": []
          },
          "execution_count": 28
        }
      ]
    },
    {
      "cell_type": "markdown",
      "metadata": {
        "id": "pMZcpBTEfzoG"
      },
      "source": [
        "## Predicting 2019-2020"
      ]
    },
    {
      "cell_type": "code",
      "metadata": {
        "id": "P_RjAVqCf1Qt"
      },
      "source": [
        "df_test = pd.read_pickle(\"df_test\")"
      ],
      "execution_count": null,
      "outputs": []
    },
    {
      "cell_type": "code",
      "metadata": {
        "id": "omopvwS5yc2w"
      },
      "source": [
        "df_test = df_test[df_test.actor1.isin(df.actor1) | df_test.actor1.isin(df.actor2)]\n",
        "df_test = df_test[df_test.actor2.isin(df.actor1) | df_test.actor2.isin(df.actor2)]"
      ],
      "execution_count": null,
      "outputs": []
    },
    {
      "cell_type": "code",
      "metadata": {
        "id": "XGvwrLQLf_GV"
      },
      "source": [
        "df2 = df_test.groupby([\"actor1\", \"actor2\"]).size().reset_index(name=\"NbrOfMovies\")"
      ],
      "execution_count": null,
      "outputs": []
    },
    {
      "cell_type": "code",
      "metadata": {
        "id": "Oqna4rehgBBH"
      },
      "source": [
        "df3 = df2[df2.NbrOfMovies > 1]"
      ],
      "execution_count": null,
      "outputs": []
    },
    {
      "cell_type": "code",
      "metadata": {
        "id": "gbNiY7X8gBR1"
      },
      "source": [
        "df = df3"
      ],
      "execution_count": null,
      "outputs": []
    },
    {
      "cell_type": "code",
      "metadata": {
        "id": "uW1LpMSqgBUB"
      },
      "source": [
        "df = df.drop(columns=[\"NbrOfMovies\"])\n",
        "df_test[\"link\"] = 1"
      ],
      "execution_count": null,
      "outputs": []
    },
    {
      "cell_type": "code",
      "metadata": {
        "id": "3cjCbK3-gBWH"
      },
      "source": [
        "G = nx.from_pandas_edgelist(df_test, \"actor1\", \"actor2\", create_using=nx.Graph())"
      ],
      "execution_count": null,
      "outputs": []
    },
    {
      "cell_type": "code",
      "metadata": {
        "colab": {
          "base_uri": "https://localhost:8080/"
        },
        "id": "tkGS3APwgBY0",
        "outputId": "5fe6a914-419a-48e3-dd62-84e858c77fa7"
      },
      "source": [
        "# combine all nodes in a list\n",
        "node_list = np.unique(G.nodes)\n",
        "len(node_list)"
      ],
      "execution_count": null,
      "outputs": [
        {
          "output_type": "execute_result",
          "data": {
            "text/plain": [
              "756"
            ]
          },
          "metadata": {
            "tags": []
          },
          "execution_count": 36
        }
      ]
    },
    {
      "cell_type": "code",
      "metadata": {
        "id": "5qC653Z0hbjF"
      },
      "source": [
        "# build adjacency matrix\n",
        "adj_G = nx.to_numpy_matrix(G, nodelist = node_list)"
      ],
      "execution_count": null,
      "outputs": []
    },
    {
      "cell_type": "code",
      "metadata": {
        "colab": {
          "base_uri": "https://localhost:8080/",
          "height": 117,
          "referenced_widgets": [
            "a65fe57f66544638899d7463264e6875",
            "c63d6304c72849b58aea323758f8dd80",
            "d81a5a636603496fafb00315c3cc9049",
            "c569675566d64559b9e854bf0493c79e",
            "4c5d1737a2a6440599b2e3b08c83ba55",
            "e3e51c3bfbb244aeaead8ba63cb12ca1",
            "6c9a18b46c3d43c3abcba1da1c322a24",
            "3c2be0b4e46547c297003427e71a436c"
          ]
        },
        "id": "O1cEraNGhdpp",
        "outputId": "6248a5b3-b195-4c23-fe49-8b5471eed3e8"
      },
      "source": [
        "# get unconnected node-pairs\n",
        "all_unconnected_pairs = []\n",
        "\n",
        "# traverse adjacency matrix\n",
        "offset = 0\n",
        "for i in tqdm(range(adj_G.shape[0])):\n",
        "  for j in range(offset,adj_G.shape[1]):\n",
        "    if i != j:      \n",
        "      try:\n",
        "        if nx.shortest_path_length(G, node_list[i], node_list[j]) <=2:\n",
        "          if adj_G[i,j] == 0:\n",
        "            all_unconnected_pairs.append([node_list[i],node_list[j]])\n",
        "      except:\n",
        "        pass\n",
        "\n",
        "  offset = offset + 1"
      ],
      "execution_count": null,
      "outputs": [
        {
          "output_type": "stream",
          "text": [
            "/usr/local/lib/python3.7/dist-packages/ipykernel_launcher.py:6: TqdmDeprecationWarning: This function will be removed in tqdm==5.0.0\n",
            "Please use `tqdm.notebook.tqdm` instead of `tqdm.tqdm_notebook`\n",
            "  \n"
          ],
          "name": "stderr"
        },
        {
          "output_type": "display_data",
          "data": {
            "application/vnd.jupyter.widget-view+json": {
              "model_id": "a65fe57f66544638899d7463264e6875",
              "version_minor": 0,
              "version_major": 2
            },
            "text/plain": [
              "HBox(children=(FloatProgress(value=0.0, max=756.0), HTML(value='')))"
            ]
          },
          "metadata": {
            "tags": []
          }
        },
        {
          "output_type": "stream",
          "text": [
            "\n"
          ],
          "name": "stdout"
        }
      ]
    },
    {
      "cell_type": "code",
      "metadata": {
        "colab": {
          "base_uri": "https://localhost:8080/"
        },
        "id": "uZQjxY9mscmo",
        "outputId": "536c9699-d0c7-418a-b62c-905461fc45a3"
      },
      "source": [
        "len(all_unconnected_pairs)"
      ],
      "execution_count": null,
      "outputs": [
        {
          "output_type": "execute_result",
          "data": {
            "text/plain": [
              "1108"
            ]
          },
          "metadata": {
            "tags": []
          },
          "execution_count": 39
        }
      ]
    },
    {
      "cell_type": "code",
      "metadata": {
        "id": "sXbC_LI7hf1Q"
      },
      "source": [
        "node_1_unlinked = [i[0] for i in all_unconnected_pairs]\n",
        "node_2_unlinked = [i[1] for i in all_unconnected_pairs]\n",
        "\n",
        "data = pd.DataFrame({'actor1':node_1_unlinked, \n",
        "                     'actor2':node_2_unlinked})\n",
        "\n",
        "# add target variable 'link'\n",
        "data['link'] = 0"
      ],
      "execution_count": null,
      "outputs": []
    },
    {
      "cell_type": "code",
      "metadata": {
        "id": "obzLZ_s9if7U"
      },
      "source": [
        "data = data.append(df_test)"
      ],
      "execution_count": null,
      "outputs": []
    },
    {
      "cell_type": "code",
      "metadata": {
        "colab": {
          "base_uri": "https://localhost:8080/"
        },
        "id": "WzIw18wcj9MJ",
        "outputId": "662b0d11-07b2-44ea-bc22-16681447e2ab"
      },
      "source": [
        "data['link'].value_counts()"
      ],
      "execution_count": null,
      "outputs": [
        {
          "output_type": "execute_result",
          "data": {
            "text/plain": [
              "0    1108\n",
              "1     856\n",
              "Name: link, dtype: int64"
            ]
          },
          "metadata": {
            "tags": []
          },
          "execution_count": 42
        }
      ]
    },
    {
      "cell_type": "code",
      "metadata": {
        "colab": {
          "base_uri": "https://localhost:8080/"
        },
        "id": "pUN0FrWIkF_d",
        "outputId": "d693cea6-2074-428c-8113-82439822f0ea"
      },
      "source": [
        "x = [(n2w_model[str(i)]+n2w_model[str(j)]) for i,j in zip(data['actor1'], data['actor2'])]"
      ],
      "execution_count": null,
      "outputs": [
        {
          "output_type": "stream",
          "text": [
            "/usr/local/lib/python3.7/dist-packages/ipykernel_launcher.py:1: DeprecationWarning: Call to deprecated `__getitem__` (Method will be removed in 4.0.0, use self.wv.__getitem__() instead).\n",
            "  \"\"\"Entry point for launching an IPython kernel.\n"
          ],
          "name": "stderr"
        }
      ]
    },
    {
      "cell_type": "markdown",
      "metadata": {
        "id": "70qRHlppVyg0"
      },
      "source": [
        "### Predicting"
      ]
    },
    {
      "cell_type": "code",
      "metadata": {
        "colab": {
          "base_uri": "https://localhost:8080/"
        },
        "id": "lf_1t5MPkJaP",
        "outputId": "0230d27c-fb6c-4b41-d2c7-749b3e92ca05"
      },
      "source": [
        "predictions = lr.predict_proba(np.array(x))\n",
        "roc_auc_score(data['link'], predictions[:,1])"
      ],
      "execution_count": null,
      "outputs": [
        {
          "output_type": "execute_result",
          "data": {
            "text/plain": [
              "0.5666299048550896"
            ]
          },
          "metadata": {
            "tags": []
          },
          "execution_count": 51
        }
      ]
    },
    {
      "cell_type": "code",
      "metadata": {
        "colab": {
          "base_uri": "https://localhost:8080/"
        },
        "id": "bkTbgigUkPYD",
        "outputId": "5337e194-3f45-4063-8ed9-8eb0c4cfb13e"
      },
      "source": [
        "y_pred = lr.predict(np.array(x))\n",
        "accuracy_score(data['link'], y_pred)"
      ],
      "execution_count": null,
      "outputs": [
        {
          "output_type": "execute_result",
          "data": {
            "text/plain": [
              "0.5509164969450102"
            ]
          },
          "metadata": {
            "tags": []
          },
          "execution_count": 52
        }
      ]
    },
    {
      "cell_type": "code",
      "metadata": {
        "colab": {
          "base_uri": "https://localhost:8080/"
        },
        "id": "E6dSabQNWWdR",
        "outputId": "b3ebef75-16b7-4dac-961f-26ef06a5e0b2"
      },
      "source": [
        "predictions = rfc.predict_proba(np.array(x))\n",
        "roc_auc_score(data['link'], predictions[:,1])"
      ],
      "execution_count": null,
      "outputs": [
        {
          "output_type": "execute_result",
          "data": {
            "text/plain": [
              "0.5955508367353824"
            ]
          },
          "metadata": {
            "tags": []
          },
          "execution_count": 46
        }
      ]
    },
    {
      "cell_type": "code",
      "metadata": {
        "colab": {
          "base_uri": "https://localhost:8080/"
        },
        "id": "PM0NuuTSWWke",
        "outputId": "708e3496-f9f8-405a-b7a7-d43bae460146"
      },
      "source": [
        "y_pred = rfc.predict(np.array(x))\n",
        "accuracy_score(data['link'], y_pred)"
      ],
      "execution_count": null,
      "outputs": [
        {
          "output_type": "execute_result",
          "data": {
            "text/plain": [
              "0.595213849287169"
            ]
          },
          "metadata": {
            "tags": []
          },
          "execution_count": 47
        }
      ]
    },
    {
      "cell_type": "code",
      "metadata": {
        "colab": {
          "base_uri": "https://localhost:8080/"
        },
        "id": "MQ3hBwA1WWpc",
        "outputId": "84e1bfc9-9e4a-4312-adc3-aa85f7626a2c"
      },
      "source": [
        "predictions = mlpc.predict_proba(np.array(x))\n",
        "roc_auc_score(data['link'], predictions[:,1])"
      ],
      "execution_count": null,
      "outputs": [
        {
          "output_type": "execute_result",
          "data": {
            "text/plain": [
              "0.5532881085731638"
            ]
          },
          "metadata": {
            "tags": []
          },
          "execution_count": 48
        }
      ]
    },
    {
      "cell_type": "code",
      "metadata": {
        "colab": {
          "base_uri": "https://localhost:8080/"
        },
        "id": "zipBGYUtWWvm",
        "outputId": "4c60b437-954c-46f0-a8a9-ac4ce31e1347"
      },
      "source": [
        "y_pred = mlpc.predict(np.array(x))\n",
        "accuracy_score(data['link'], y_pred)"
      ],
      "execution_count": null,
      "outputs": [
        {
          "output_type": "execute_result",
          "data": {
            "text/plain": [
              "0.5585539714867617"
            ]
          },
          "metadata": {
            "tags": []
          },
          "execution_count": 49
        }
      ]
    },
    {
      "cell_type": "markdown",
      "metadata": {
        "id": "YLtjBUnn0_hw"
      },
      "source": [
        "## Outcome"
      ]
    },
    {
      "cell_type": "code",
      "metadata": {
        "id": "c3yhctb41DVA"
      },
      "source": [
        "data[\"y_pred\"] = y_pred"
      ],
      "execution_count": null,
      "outputs": []
    },
    {
      "cell_type": "code",
      "metadata": {
        "colab": {
          "base_uri": "https://localhost:8080/",
          "height": 419
        },
        "id": "EE7LyWgs1LUi",
        "outputId": "a9c2f1d5-5f85-46c1-b17b-0d815cff0c54"
      },
      "source": [
        "mask = data[\"link\"] != data[\"y_pred\"]\n",
        "data[mask]"
      ],
      "execution_count": null,
      "outputs": [
        {
          "output_type": "execute_result",
          "data": {
            "text/html": [
              "<div>\n",
              "<style scoped>\n",
              "    .dataframe tbody tr th:only-of-type {\n",
              "        vertical-align: middle;\n",
              "    }\n",
              "\n",
              "    .dataframe tbody tr th {\n",
              "        vertical-align: top;\n",
              "    }\n",
              "\n",
              "    .dataframe thead th {\n",
              "        text-align: right;\n",
              "    }\n",
              "</style>\n",
              "<table border=\"1\" class=\"dataframe\">\n",
              "  <thead>\n",
              "    <tr style=\"text-align: right;\">\n",
              "      <th></th>\n",
              "      <th>actor1</th>\n",
              "      <th>actor2</th>\n",
              "      <th>link</th>\n",
              "      <th>y_pred</th>\n",
              "    </tr>\n",
              "  </thead>\n",
              "  <tbody>\n",
              "    <tr>\n",
              "      <th>44</th>\n",
              "      <td>Ajay Devgn</td>\n",
              "      <td>Ileana D'Cruz</td>\n",
              "      <td>0</td>\n",
              "      <td>1</td>\n",
              "    </tr>\n",
              "    <tr>\n",
              "      <th>110</th>\n",
              "      <td>Ammy Virk</td>\n",
              "      <td>Karamjit Anmol</td>\n",
              "      <td>0</td>\n",
              "      <td>1</td>\n",
              "    </tr>\n",
              "    <tr>\n",
              "      <th>261</th>\n",
              "      <td>Bob Glazier</td>\n",
              "      <td>Eight The Chosen One</td>\n",
              "      <td>0</td>\n",
              "      <td>1</td>\n",
              "    </tr>\n",
              "    <tr>\n",
              "      <th>554</th>\n",
              "      <td>Eric Roberts</td>\n",
              "      <td>Michael Madsen</td>\n",
              "      <td>0</td>\n",
              "      <td>1</td>\n",
              "    </tr>\n",
              "    <tr>\n",
              "      <th>616</th>\n",
              "      <td>Gurpreet Ghuggi</td>\n",
              "      <td>Karamjit Anmol</td>\n",
              "      <td>0</td>\n",
              "      <td>1</td>\n",
              "    </tr>\n",
              "    <tr>\n",
              "      <th>...</th>\n",
              "      <td>...</td>\n",
              "      <td>...</td>\n",
              "      <td>...</td>\n",
              "      <td>...</td>\n",
              "    </tr>\n",
              "    <tr>\n",
              "      <th>51526</th>\n",
              "      <td>Emma Roberts</td>\n",
              "      <td>Luke Bracey</td>\n",
              "      <td>1</td>\n",
              "      <td>0</td>\n",
              "    </tr>\n",
              "    <tr>\n",
              "      <th>51659</th>\n",
              "      <td>Anil Kapoor</td>\n",
              "      <td>Aditya Roy Kapoor</td>\n",
              "      <td>1</td>\n",
              "      <td>0</td>\n",
              "    </tr>\n",
              "    <tr>\n",
              "      <th>51713</th>\n",
              "      <td>James Carolus</td>\n",
              "      <td>Tonjia Atomic</td>\n",
              "      <td>1</td>\n",
              "      <td>0</td>\n",
              "    </tr>\n",
              "    <tr>\n",
              "      <th>51733</th>\n",
              "      <td>Peter Dinklage</td>\n",
              "      <td>Rosamund Pike</td>\n",
              "      <td>1</td>\n",
              "      <td>0</td>\n",
              "    </tr>\n",
              "    <tr>\n",
              "      <th>51766</th>\n",
              "      <td>Stephen Lang</td>\n",
              "      <td>Martin Kove</td>\n",
              "      <td>1</td>\n",
              "      <td>0</td>\n",
              "    </tr>\n",
              "  </tbody>\n",
              "</table>\n",
              "<p>787 rows × 4 columns</p>\n",
              "</div>"
            ],
            "text/plain": [
              "                actor1                actor2  link  y_pred\n",
              "44          Ajay Devgn         Ileana D'Cruz     0       1\n",
              "110          Ammy Virk        Karamjit Anmol     0       1\n",
              "261        Bob Glazier  Eight The Chosen One     0       1\n",
              "554       Eric Roberts        Michael Madsen     0       1\n",
              "616    Gurpreet Ghuggi        Karamjit Anmol     0       1\n",
              "...                ...                   ...   ...     ...\n",
              "51526     Emma Roberts           Luke Bracey     1       0\n",
              "51659      Anil Kapoor     Aditya Roy Kapoor     1       0\n",
              "51713    James Carolus         Tonjia Atomic     1       0\n",
              "51733   Peter Dinklage         Rosamund Pike     1       0\n",
              "51766     Stephen Lang           Martin Kove     1       0\n",
              "\n",
              "[787 rows x 4 columns]"
            ]
          },
          "metadata": {
            "tags": []
          },
          "execution_count": 60
        }
      ]
    }
  ]
}