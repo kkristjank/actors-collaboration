{
  "nbformat": 4,
  "nbformat_minor": 0,
  "metadata": {
    "colab": {
      "name": "Ratings_prediction.ipynb",
      "provenance": [],
      "collapsed_sections": [],
      "toc_visible": true
    },
    "kernelspec": {
      "display_name": "Python 3",
      "language": "python",
      "name": "python3"
    }
  },
  "cells": [
    {
      "cell_type": "markdown",
      "metadata": {
        "id": "VilSKYKC-QF_"
      },
      "source": [
        "# Data cleaning and link prediction between actors"
      ]
    },
    {
      "cell_type": "markdown",
      "metadata": {
        "id": "MokCPhqY-I3U"
      },
      "source": [
        "## Necessary libraries"
      ]
    },
    {
      "cell_type": "code",
      "metadata": {
        "id": "z8WTexso9Zuf"
      },
      "source": [
        "import pandas as pd\n",
        "import networkx as nx\n",
        "from tqdm import tqdm_notebook as tqdm\n",
        "import itertools\n",
        "import matplotlib.pyplot as plt\n",
        "import numpy as np\n",
        "import pickle"
      ],
      "execution_count": null,
      "outputs": []
    },
    {
      "cell_type": "markdown",
      "metadata": {
        "id": "8Fgxl-qb8IhF"
      },
      "source": [
        "## Data"
      ]
    },
    {
      "cell_type": "markdown",
      "metadata": {
        "id": "xfZ26_ss9eLm"
      },
      "source": [
        "### Create connection with datasets"
      ]
    },
    {
      "cell_type": "markdown",
      "metadata": {
        "id": "D5-mYaLw_d8R"
      },
      "source": [
        "#### Files via shareable link"
      ]
    },
    {
      "cell_type": "code",
      "metadata": {
        "id": "0E5cPhQ__bqn"
      },
      "source": [
        "# Code to read csv file into Colaboratory:\n",
        "!pip install -U -q PyDrive\n",
        "from pydrive.auth import GoogleAuth\n",
        "from pydrive.drive import GoogleDrive\n",
        "from google.colab import auth\n",
        "from oauth2client.client import GoogleCredentials\n",
        "# Authenticate and create the PyDrive client.\n",
        "auth.authenticate_user()\n",
        "gauth = GoogleAuth()\n",
        "gauth.credentials = GoogleCredentials.get_application_default()\n",
        "drive = GoogleDrive(gauth)"
      ],
      "execution_count": null,
      "outputs": []
    },
    {
      "cell_type": "code",
      "metadata": {
        "id": "H05jqJxy_vMe"
      },
      "source": [
        "link = \"https://drive.google.com/file/d/1T_cW32Wtp_D-5XAFo7SScy-gO0phlHhp/view?usp=sharing\"\n",
        "id = link.split(\"/\")[-2]\n",
        "downloaded = drive.CreateFile({'id':id}) \n",
        "downloaded.GetContentFile('title.ratings.tsv')"
      ],
      "execution_count": null,
      "outputs": []
    },
    {
      "cell_type": "code",
      "metadata": {
        "id": "lpBeoh8d__eE"
      },
      "source": [
        "link = \"https://drive.google.com/file/d/1tyqWloBbdzxFROWRtrAZAsr82HwJQT7T/view?usp=sharing\"\n",
        "id = link.split(\"/\")[-2]\n",
        "downloaded = drive.CreateFile({'id':id}) \n",
        "downloaded.GetContentFile('title.principals.tsv')"
      ],
      "execution_count": null,
      "outputs": []
    },
    {
      "cell_type": "code",
      "metadata": {
        "id": "EWJmfo9YABEZ"
      },
      "source": [
        "link = \"https://drive.google.com/file/d/1yhwoApklCg0y_RM-gqwxy80l-rMQvCWH/view?usp=sharing\"\n",
        "id = link.split(\"/\")[-2]\n",
        "downloaded = drive.CreateFile({'id':id}) \n",
        "downloaded.GetContentFile('name.basics.tsv')"
      ],
      "execution_count": null,
      "outputs": []
    },
    {
      "cell_type": "code",
      "metadata": {
        "id": "ulI27yXsmfSN"
      },
      "source": [
        "link = \"https://drive.google.com/file/d/1JCa4kYiKLbcsv8Ji-XH-qgoxQ9c9zgUi/view?usp=sharing\"\n",
        "id = link.split(\"/\")[-2]\n",
        "downloaded = drive.CreateFile({'id':id}) \n",
        "downloaded.GetContentFile('movies.shown.US.csv')"
      ],
      "execution_count": null,
      "outputs": []
    },
    {
      "cell_type": "markdown",
      "metadata": {
        "id": "LBJ7VCWr9Zui"
      },
      "source": [
        "### Read in datasets"
      ]
    },
    {
      "cell_type": "code",
      "metadata": {
        "id": "sjq3GwI59Zuj"
      },
      "source": [
        "ratings = pd.read_csv(\"title.ratings.tsv\", sep='\\t')"
      ],
      "execution_count": null,
      "outputs": []
    },
    {
      "cell_type": "code",
      "metadata": {
        "id": "eKgIRyet9Zuj"
      },
      "source": [
        "crew = pd.read_csv(\"title.principals.tsv\", sep='\\t')"
      ],
      "execution_count": null,
      "outputs": []
    },
    {
      "cell_type": "code",
      "metadata": {
        "id": "pQrWmsvo9Zuk"
      },
      "source": [
        "movies = pd.read_csv(\"movies.shown.US.csv\")"
      ],
      "execution_count": null,
      "outputs": []
    },
    {
      "cell_type": "code",
      "metadata": {
        "id": "mQJCxmBt9Zuk"
      },
      "source": [
        "names = pd.read_csv(\"name.basics.tsv\", sep='\\t')"
      ],
      "execution_count": null,
      "outputs": []
    },
    {
      "cell_type": "markdown",
      "metadata": {
        "id": "o522KC099Zul"
      },
      "source": [
        "### Clean data"
      ]
    },
    {
      "cell_type": "code",
      "metadata": {
        "colab": {
          "base_uri": "https://localhost:8080/"
        },
        "id": "Ew8-6vdK9Zul",
        "outputId": "5bad360f-4146-4f9d-b2fe-6818e7ec7370"
      },
      "source": [
        "print(len(ratings))\n",
        "print(len(crew))\n",
        "print(len(movies))\n",
        "print(len(names))"
      ],
      "execution_count": null,
      "outputs": [
        {
          "output_type": "stream",
          "text": [
            "1149651\n",
            "44619193\n",
            "220291\n",
            "10916797\n"
          ],
          "name": "stdout"
        }
      ]
    },
    {
      "cell_type": "code",
      "metadata": {
        "id": "Kx_AoX7y9Zun"
      },
      "source": [
        "# Limits for years to calculate\n",
        "fromYear = 2019\n",
        "toYear = 2020"
      ],
      "execution_count": null,
      "outputs": []
    },
    {
      "cell_type": "code",
      "metadata": {
        "id": "ou8UJhKg31UU"
      },
      "source": [
        "names = names[names.deathYear == '\\\\N'] # remove deceased crew from names data"
      ],
      "execution_count": null,
      "outputs": []
    },
    {
      "cell_type": "code",
      "metadata": {
        "id": "TOVc8tpV9Zuo"
      },
      "source": [
        "movies['startYear'] = movies['startYear'].replace({'\\\\N':'0'}) # replace the year to 0 if it isnt given\n",
        "movies = movies.astype({\"startYear\":'int'}) # make the years into integers\n",
        "movies = movies[(movies.startYear >= fromYear) & (movies.startYear <= toYear)] # filter out all years that are not in the given range\n",
        "movies = movies[movies.tconst.isin(crew.tconst)] # remove movies that no longer have crew data\n",
        "movies = movies[movies.tconst.isin(ratings.tconst)] # remove movies that don't have ratings"
      ],
      "execution_count": null,
      "outputs": []
    },
    {
      "cell_type": "code",
      "metadata": {
        "id": "ObyTMnvo9Zup"
      },
      "source": [
        "crew = crew[crew.nconst.isin(names.nconst)] # remove deceased crew from crew data\n",
        "ratings = ratings[ratings.tconst.isin(movies.tconst)] # remove ratings of non-movies\n",
        "crew = crew[crew.tconst.isin(movies.tconst)] # remove crew of non-movies\n",
        "names = names[names.nconst.isin(crew.nconst)] # remove names of people not in the new crew list"
      ],
      "execution_count": null,
      "outputs": []
    },
    {
      "cell_type": "code",
      "metadata": {
        "colab": {
          "base_uri": "https://localhost:8080/"
        },
        "id": "y_ZWKUCW9Zuq",
        "outputId": "4d97ec4a-b7fa-41ca-aed2-3a59bdbb4b56"
      },
      "source": [
        "print(len(ratings))\n",
        "print(len(crew))\n",
        "print(len(movies))\n",
        "print(len(names)) "
      ],
      "execution_count": null,
      "outputs": [
        {
          "output_type": "stream",
          "text": [
            "8536\n",
            "75241\n",
            "8536\n",
            "62189\n"
          ],
          "name": "stdout"
        }
      ]
    },
    {
      "cell_type": "code",
      "metadata": {
        "id": "Q-pe-CG59Zur"
      },
      "source": [
        "movies.to_csv('movie.basics.cleaned.csv')\n",
        "ratings.to_csv('movie.ratings.cleaned.csv')\n",
        "crew.to_csv('movie.principals.cleaned.csv')\n",
        "names.to_csv('names.basics.cleaned.csv')"
      ],
      "execution_count": null,
      "outputs": []
    },
    {
      "cell_type": "code",
      "metadata": {
        "colab": {
          "base_uri": "https://localhost:8080/"
        },
        "id": "vbjbWifVNJfi",
        "outputId": "75ad53cb-1a85-46bb-d475-bf454c3132f7"
      },
      "source": [
        "actors = crew[(crew.category==\"actor\") | (crew.category==\"actress\")] # filter out only actors and actresses from the crew\n",
        "print(\"Not all movies have data about actors:\")\n",
        "print(\"Number of movies:\", len(movies))\n",
        "print(\"Number of movies with actor data:\", len(actors.tconst.unique()))\n",
        "movies_filtered = movies[movies.tconst.isin(actors.tconst)] # Lets remove movies without actor data\n",
        "names_filtered = names[names.nconst.isin(actors.nconst)] # remove names of people not in the actors list"
      ],
      "execution_count": null,
      "outputs": [
        {
          "output_type": "stream",
          "text": [
            "Not all movies have data about actors:\n",
            "Number of movies: 8536\n",
            "Number of movies with actor data: 7136\n"
          ],
          "name": "stdout"
        }
      ]
    },
    {
      "cell_type": "code",
      "metadata": {
        "id": "5RBjKJbBVdGS"
      },
      "source": [
        "merged_data = pd.merge(names_filtered, actors, how=\"left\", on=\"nconst\")"
      ],
      "execution_count": null,
      "outputs": []
    },
    {
      "cell_type": "code",
      "metadata": {
        "id": "t_miFU_GpJqh"
      },
      "source": [
        "merged_data.to_csv('merged_data.cleaned.csv')"
      ],
      "execution_count": null,
      "outputs": []
    },
    {
      "cell_type": "markdown",
      "metadata": {
        "id": "IvzMGYU7Fjee"
      },
      "source": [
        "## Rateing"
      ]
    },
    {
      "cell_type": "code",
      "metadata": {
        "colab": {
          "base_uri": "https://localhost:8080/",
          "height": 419
        },
        "id": "TkEfI6VWFlnV",
        "outputId": "6928160c-3633-497f-f5e2-a2b3c6a2e0f7"
      },
      "source": [
        "merged_data"
      ],
      "execution_count": null,
      "outputs": [
        {
          "output_type": "execute_result",
          "data": {
            "text/html": [
              "<div>\n",
              "<style scoped>\n",
              "    .dataframe tbody tr th:only-of-type {\n",
              "        vertical-align: middle;\n",
              "    }\n",
              "\n",
              "    .dataframe tbody tr th {\n",
              "        vertical-align: top;\n",
              "    }\n",
              "\n",
              "    .dataframe thead th {\n",
              "        text-align: right;\n",
              "    }\n",
              "</style>\n",
              "<table border=\"1\" class=\"dataframe\">\n",
              "  <thead>\n",
              "    <tr style=\"text-align: right;\">\n",
              "      <th></th>\n",
              "      <th>nconst</th>\n",
              "      <th>primaryName</th>\n",
              "      <th>birthYear</th>\n",
              "      <th>deathYear</th>\n",
              "      <th>primaryProfession</th>\n",
              "      <th>knownForTitles</th>\n",
              "      <th>tconst</th>\n",
              "      <th>ordering</th>\n",
              "      <th>category</th>\n",
              "      <th>job</th>\n",
              "      <th>characters</th>\n",
              "    </tr>\n",
              "  </thead>\n",
              "  <tbody>\n",
              "    <tr>\n",
              "      <th>0</th>\n",
              "      <td>nm0000047</td>\n",
              "      <td>Sophia Loren</td>\n",
              "      <td>1934</td>\n",
              "      <td>\\N</td>\n",
              "      <td>actress,soundtrack</td>\n",
              "      <td>tt0076085,tt0060121,tt0058335,tt0054749</td>\n",
              "      <td>tt10627584</td>\n",
              "      <td>1</td>\n",
              "      <td>actress</td>\n",
              "      <td>\\N</td>\n",
              "      <td>[\"Madame Rosa\"]</td>\n",
              "    </tr>\n",
              "    <tr>\n",
              "      <th>1</th>\n",
              "      <td>nm0000084</td>\n",
              "      <td>Gong Li</td>\n",
              "      <td>1965</td>\n",
              "      <td>\\N</td>\n",
              "      <td>actress</td>\n",
              "      <td>tt0101640,tt0397535,tt0430357,tt0473444</td>\n",
              "      <td>tt10670442</td>\n",
              "      <td>1</td>\n",
              "      <td>actress</td>\n",
              "      <td>\\N</td>\n",
              "      <td>[\"Lang Ping\"]</td>\n",
              "    </tr>\n",
              "    <tr>\n",
              "      <th>2</th>\n",
              "      <td>nm0000084</td>\n",
              "      <td>Gong Li</td>\n",
              "      <td>1965</td>\n",
              "      <td>\\N</td>\n",
              "      <td>actress</td>\n",
              "      <td>tt0101640,tt0397535,tt0430357,tt0473444</td>\n",
              "      <td>tt4566758</td>\n",
              "      <td>3</td>\n",
              "      <td>actress</td>\n",
              "      <td>\\N</td>\n",
              "      <td>[\"Xianniang\"]</td>\n",
              "    </tr>\n",
              "    <tr>\n",
              "      <th>3</th>\n",
              "      <td>nm0000092</td>\n",
              "      <td>John Cleese</td>\n",
              "      <td>1939</td>\n",
              "      <td>\\N</td>\n",
              "      <td>actor,writer,producer</td>\n",
              "      <td>tt0085959,tt0063929,tt0095159,tt0071853</td>\n",
              "      <td>tt4426464</td>\n",
              "      <td>4</td>\n",
              "      <td>actor</td>\n",
              "      <td>\\N</td>\n",
              "      <td>[\"Otto Von Walrus\"]</td>\n",
              "    </tr>\n",
              "    <tr>\n",
              "      <th>4</th>\n",
              "      <td>nm0000092</td>\n",
              "      <td>John Cleese</td>\n",
              "      <td>1939</td>\n",
              "      <td>\\N</td>\n",
              "      <td>actor,writer,producer</td>\n",
              "      <td>tt0085959,tt0063929,tt0095159,tt0071853</td>\n",
              "      <td>tt5277030</td>\n",
              "      <td>3</td>\n",
              "      <td>actor</td>\n",
              "      <td>\\N</td>\n",
              "      <td>[\"Brian King\"]</td>\n",
              "    </tr>\n",
              "    <tr>\n",
              "      <th>...</th>\n",
              "      <td>...</td>\n",
              "      <td>...</td>\n",
              "      <td>...</td>\n",
              "      <td>...</td>\n",
              "      <td>...</td>\n",
              "      <td>...</td>\n",
              "      <td>...</td>\n",
              "      <td>...</td>\n",
              "      <td>...</td>\n",
              "      <td>...</td>\n",
              "      <td>...</td>\n",
              "    </tr>\n",
              "    <tr>\n",
              "      <th>29413</th>\n",
              "      <td>nm9991306</td>\n",
              "      <td>Stella Carlish</td>\n",
              "      <td>\\N</td>\n",
              "      <td>\\N</td>\n",
              "      <td>actress</td>\n",
              "      <td>tt8997134,tt8342598</td>\n",
              "      <td>tt8997134</td>\n",
              "      <td>1</td>\n",
              "      <td>actress</td>\n",
              "      <td>\\N</td>\n",
              "      <td>[\"Cassie\"]</td>\n",
              "    </tr>\n",
              "    <tr>\n",
              "      <th>29414</th>\n",
              "      <td>nm9992452</td>\n",
              "      <td>Yuki Katayama</td>\n",
              "      <td>\\N</td>\n",
              "      <td>\\N</td>\n",
              "      <td>actress</td>\n",
              "      <td>tt6340500,tt8185442,tt8845988,tt7493810</td>\n",
              "      <td>tt8845988</td>\n",
              "      <td>4</td>\n",
              "      <td>actress</td>\n",
              "      <td>\\N</td>\n",
              "      <td>\\N</td>\n",
              "    </tr>\n",
              "    <tr>\n",
              "      <th>29415</th>\n",
              "      <td>nm9992659</td>\n",
              "      <td>Daniar Alshinov</td>\n",
              "      <td>\\N</td>\n",
              "      <td>\\N</td>\n",
              "      <td>actor</td>\n",
              "      <td>tt13294010,tt11146190,tt11155928,tt13294064</td>\n",
              "      <td>tt10867768</td>\n",
              "      <td>1</td>\n",
              "      <td>actor</td>\n",
              "      <td>\\N</td>\n",
              "      <td>[\"Bekzat\"]</td>\n",
              "    </tr>\n",
              "    <tr>\n",
              "      <th>29416</th>\n",
              "      <td>nm9993103</td>\n",
              "      <td>Brianna Roy</td>\n",
              "      <td>\\N</td>\n",
              "      <td>\\N</td>\n",
              "      <td>actress,writer,camera_department</td>\n",
              "      <td>tt9001550,tt9486184,tt7846794,tt9212760</td>\n",
              "      <td>tt9486184</td>\n",
              "      <td>2</td>\n",
              "      <td>actress</td>\n",
              "      <td>\\N</td>\n",
              "      <td>[\"Stacy\"]</td>\n",
              "    </tr>\n",
              "    <tr>\n",
              "      <th>29417</th>\n",
              "      <td>nm9993693</td>\n",
              "      <td>Anketa Maharana</td>\n",
              "      <td>\\N</td>\n",
              "      <td>\\N</td>\n",
              "      <td>actress</td>\n",
              "      <td>tt8737752,tt9815360,tt14087492</td>\n",
              "      <td>tt9815360</td>\n",
              "      <td>2</td>\n",
              "      <td>actress</td>\n",
              "      <td>\\N</td>\n",
              "      <td>[\"Anupama\"]</td>\n",
              "    </tr>\n",
              "  </tbody>\n",
              "</table>\n",
              "<p>29418 rows × 11 columns</p>\n",
              "</div>"
            ],
            "text/plain": [
              "          nconst      primaryName birthYear  ... category job           characters\n",
              "0      nm0000047     Sophia Loren      1934  ...  actress  \\N      [\"Madame Rosa\"]\n",
              "1      nm0000084          Gong Li      1965  ...  actress  \\N        [\"Lang Ping\"]\n",
              "2      nm0000084          Gong Li      1965  ...  actress  \\N        [\"Xianniang\"]\n",
              "3      nm0000092      John Cleese      1939  ...    actor  \\N  [\"Otto Von Walrus\"]\n",
              "4      nm0000092      John Cleese      1939  ...    actor  \\N       [\"Brian King\"]\n",
              "...          ...              ...       ...  ...      ...  ..                  ...\n",
              "29413  nm9991306   Stella Carlish        \\N  ...  actress  \\N           [\"Cassie\"]\n",
              "29414  nm9992452    Yuki Katayama        \\N  ...  actress  \\N                   \\N\n",
              "29415  nm9992659  Daniar Alshinov        \\N  ...    actor  \\N           [\"Bekzat\"]\n",
              "29416  nm9993103      Brianna Roy        \\N  ...  actress  \\N            [\"Stacy\"]\n",
              "29417  nm9993693  Anketa Maharana        \\N  ...  actress  \\N          [\"Anupama\"]\n",
              "\n",
              "[29418 rows x 11 columns]"
            ]
          },
          "metadata": {
            "tags": []
          },
          "execution_count": 49
        }
      ]
    },
    {
      "cell_type": "code",
      "metadata": {
        "id": "kl8It08LPW8T"
      },
      "source": [
        "# Add ratings of movies to the table (movies 2011-2020)\n",
        "koos2020 = pd.merge(merged_data, ratings, on='tconst')\n",
        "# Sum total votes given to an actor\n",
        "votesums2020 = koos2020.groupby('nconst')['numVotes'].sum()\n",
        "votesums2020 = votesums2020.to_frame(name=\"sumVotes\")\n",
        "# Add that to original table\n",
        "koos2020 = koos2020.join(votesums2020, on='nconst')\n",
        "# Calculate the weight of any given rating\n",
        "koos2020['weightedRating'] = (koos2020['averageRating']*(koos2020['numVotes']/koos2020['sumVotes'])).round(2)\n",
        "# Sum together weighted ratings to get actor average rating\n",
        "totRating2020 = koos2020.groupby('nconst')['weightedRating'].sum()\n",
        "totRating2020 = totRating2020.to_frame(name=\"RatingTo2020\")\n",
        "# Add that to original table\n",
        "koos = koos2020.join(totRating2020, on=\"nconst\")"
      ],
      "execution_count": null,
      "outputs": []
    },
    {
      "cell_type": "code",
      "metadata": {
        "colab": {
          "base_uri": "https://localhost:8080/",
          "height": 609
        },
        "id": "oxqoxvJxPfsT",
        "outputId": "c9070154-4b7b-4f18-ecd4-bacc67963031"
      },
      "source": [
        "koos"
      ],
      "execution_count": null,
      "outputs": [
        {
          "output_type": "execute_result",
          "data": {
            "text/html": [
              "<div>\n",
              "<style scoped>\n",
              "    .dataframe tbody tr th:only-of-type {\n",
              "        vertical-align: middle;\n",
              "    }\n",
              "\n",
              "    .dataframe tbody tr th {\n",
              "        vertical-align: top;\n",
              "    }\n",
              "\n",
              "    .dataframe thead th {\n",
              "        text-align: right;\n",
              "    }\n",
              "</style>\n",
              "<table border=\"1\" class=\"dataframe\">\n",
              "  <thead>\n",
              "    <tr style=\"text-align: right;\">\n",
              "      <th></th>\n",
              "      <th>nconst</th>\n",
              "      <th>primaryName</th>\n",
              "      <th>birthYear</th>\n",
              "      <th>deathYear</th>\n",
              "      <th>primaryProfession</th>\n",
              "      <th>knownForTitles</th>\n",
              "      <th>tconst</th>\n",
              "      <th>ordering</th>\n",
              "      <th>category</th>\n",
              "      <th>job</th>\n",
              "      <th>characters</th>\n",
              "      <th>averageRating</th>\n",
              "      <th>numVotes</th>\n",
              "      <th>sumVotes</th>\n",
              "      <th>weightedRating</th>\n",
              "      <th>RatingTo2020</th>\n",
              "    </tr>\n",
              "  </thead>\n",
              "  <tbody>\n",
              "    <tr>\n",
              "      <th>0</th>\n",
              "      <td>nm0000047</td>\n",
              "      <td>Sophia Loren</td>\n",
              "      <td>1934</td>\n",
              "      <td>\\N</td>\n",
              "      <td>actress,soundtrack</td>\n",
              "      <td>tt0076085,tt0060121,tt0058335,tt0054749</td>\n",
              "      <td>tt10627584</td>\n",
              "      <td>1</td>\n",
              "      <td>actress</td>\n",
              "      <td>\\N</td>\n",
              "      <td>[\"Madame Rosa\"]</td>\n",
              "      <td>6.8</td>\n",
              "      <td>11799</td>\n",
              "      <td>11799</td>\n",
              "      <td>6.80</td>\n",
              "      <td>6.80</td>\n",
              "    </tr>\n",
              "    <tr>\n",
              "      <th>1</th>\n",
              "      <td>nm0139528</td>\n",
              "      <td>Renato Carpentieri</td>\n",
              "      <td>1943</td>\n",
              "      <td>\\N</td>\n",
              "      <td>actor</td>\n",
              "      <td>tt0106201,tt0100389,tt5765192,tt0105188</td>\n",
              "      <td>tt10627584</td>\n",
              "      <td>3</td>\n",
              "      <td>actor</td>\n",
              "      <td>\\N</td>\n",
              "      <td>[\"Dr. Coen\"]</td>\n",
              "      <td>6.8</td>\n",
              "      <td>11799</td>\n",
              "      <td>12867</td>\n",
              "      <td>6.24</td>\n",
              "      <td>6.71</td>\n",
              "    </tr>\n",
              "    <tr>\n",
              "      <th>2</th>\n",
              "      <td>nm12070255</td>\n",
              "      <td>Iosif Diego Pirvu</td>\n",
              "      <td>\\N</td>\n",
              "      <td>\\N</td>\n",
              "      <td>actor</td>\n",
              "      <td>\\N</td>\n",
              "      <td>tt10627584</td>\n",
              "      <td>4</td>\n",
              "      <td>actor</td>\n",
              "      <td>\\N</td>\n",
              "      <td>[\"Iosif\"]</td>\n",
              "      <td>6.8</td>\n",
              "      <td>11799</td>\n",
              "      <td>11799</td>\n",
              "      <td>6.80</td>\n",
              "      <td>6.80</td>\n",
              "    </tr>\n",
              "    <tr>\n",
              "      <th>3</th>\n",
              "      <td>nm5098066</td>\n",
              "      <td>Ibrahima Gueye</td>\n",
              "      <td>\\N</td>\n",
              "      <td>\\N</td>\n",
              "      <td>actor,stunts</td>\n",
              "      <td>tt10627584,tt2184316,tt9643038</td>\n",
              "      <td>tt10627584</td>\n",
              "      <td>2</td>\n",
              "      <td>actor</td>\n",
              "      <td>\\N</td>\n",
              "      <td>[\"Momo\"]</td>\n",
              "      <td>6.8</td>\n",
              "      <td>11799</td>\n",
              "      <td>11799</td>\n",
              "      <td>6.80</td>\n",
              "      <td>6.80</td>\n",
              "    </tr>\n",
              "    <tr>\n",
              "      <th>4</th>\n",
              "      <td>nm0000084</td>\n",
              "      <td>Gong Li</td>\n",
              "      <td>1965</td>\n",
              "      <td>\\N</td>\n",
              "      <td>actress</td>\n",
              "      <td>tt0101640,tt0397535,tt0430357,tt0473444</td>\n",
              "      <td>tt10670442</td>\n",
              "      <td>1</td>\n",
              "      <td>actress</td>\n",
              "      <td>\\N</td>\n",
              "      <td>[\"Lang Ping\"]</td>\n",
              "      <td>6.7</td>\n",
              "      <td>832</td>\n",
              "      <td>120861</td>\n",
              "      <td>0.05</td>\n",
              "      <td>5.61</td>\n",
              "    </tr>\n",
              "    <tr>\n",
              "      <th>...</th>\n",
              "      <td>...</td>\n",
              "      <td>...</td>\n",
              "      <td>...</td>\n",
              "      <td>...</td>\n",
              "      <td>...</td>\n",
              "      <td>...</td>\n",
              "      <td>...</td>\n",
              "      <td>...</td>\n",
              "      <td>...</td>\n",
              "      <td>...</td>\n",
              "      <td>...</td>\n",
              "      <td>...</td>\n",
              "      <td>...</td>\n",
              "      <td>...</td>\n",
              "      <td>...</td>\n",
              "      <td>...</td>\n",
              "    </tr>\n",
              "    <tr>\n",
              "      <th>29413</th>\n",
              "      <td>nm9960714</td>\n",
              "      <td>Daniel Nicholson</td>\n",
              "      <td>\\N</td>\n",
              "      <td>\\N</td>\n",
              "      <td>actor</td>\n",
              "      <td>tt12700334,tt8677030,tt8676944</td>\n",
              "      <td>tt12700334</td>\n",
              "      <td>3</td>\n",
              "      <td>actor</td>\n",
              "      <td>\\N</td>\n",
              "      <td>[\"Obi Wan Kenobi\",\"Nute Gunray\"]</td>\n",
              "      <td>6.9</td>\n",
              "      <td>9</td>\n",
              "      <td>9</td>\n",
              "      <td>6.90</td>\n",
              "      <td>6.90</td>\n",
              "    </tr>\n",
              "    <tr>\n",
              "      <th>29414</th>\n",
              "      <td>nm9964007</td>\n",
              "      <td>Ahed Bhar</td>\n",
              "      <td>\\N</td>\n",
              "      <td>\\N</td>\n",
              "      <td>NaN</td>\n",
              "      <td>tt8667126</td>\n",
              "      <td>tt8667126</td>\n",
              "      <td>3</td>\n",
              "      <td>actor</td>\n",
              "      <td>\\N</td>\n",
              "      <td>[\"Playing Himself\"]</td>\n",
              "      <td>6.4</td>\n",
              "      <td>14</td>\n",
              "      <td>14</td>\n",
              "      <td>6.40</td>\n",
              "      <td>6.40</td>\n",
              "    </tr>\n",
              "    <tr>\n",
              "      <th>29415</th>\n",
              "      <td>nm9964008</td>\n",
              "      <td>Nassim Assaad</td>\n",
              "      <td>\\N</td>\n",
              "      <td>\\N</td>\n",
              "      <td>NaN</td>\n",
              "      <td>tt8667126</td>\n",
              "      <td>tt8667126</td>\n",
              "      <td>2</td>\n",
              "      <td>actor</td>\n",
              "      <td>\\N</td>\n",
              "      <td>[\"Playing Himself\"]</td>\n",
              "      <td>6.4</td>\n",
              "      <td>14</td>\n",
              "      <td>14</td>\n",
              "      <td>6.40</td>\n",
              "      <td>6.40</td>\n",
              "    </tr>\n",
              "    <tr>\n",
              "      <th>29416</th>\n",
              "      <td>nm9964009</td>\n",
              "      <td>Assad Chaftari</td>\n",
              "      <td>\\N</td>\n",
              "      <td>\\N</td>\n",
              "      <td>NaN</td>\n",
              "      <td>tt8667126</td>\n",
              "      <td>tt8667126</td>\n",
              "      <td>4</td>\n",
              "      <td>actor</td>\n",
              "      <td>\\N</td>\n",
              "      <td>[\"Playing Himself\"]</td>\n",
              "      <td>6.4</td>\n",
              "      <td>14</td>\n",
              "      <td>14</td>\n",
              "      <td>6.40</td>\n",
              "      <td>6.40</td>\n",
              "    </tr>\n",
              "    <tr>\n",
              "      <th>29417</th>\n",
              "      <td>nm9964039</td>\n",
              "      <td>Hasan Aboud</td>\n",
              "      <td>\\N</td>\n",
              "      <td>\\N</td>\n",
              "      <td>NaN</td>\n",
              "      <td>tt8667126</td>\n",
              "      <td>tt8667126</td>\n",
              "      <td>1</td>\n",
              "      <td>actor</td>\n",
              "      <td>\\N</td>\n",
              "      <td>[\"Playing Himself\"]</td>\n",
              "      <td>6.4</td>\n",
              "      <td>14</td>\n",
              "      <td>14</td>\n",
              "      <td>6.40</td>\n",
              "      <td>6.40</td>\n",
              "    </tr>\n",
              "  </tbody>\n",
              "</table>\n",
              "<p>29418 rows × 16 columns</p>\n",
              "</div>"
            ],
            "text/plain": [
              "           nconst         primaryName  ... weightedRating RatingTo2020\n",
              "0       nm0000047        Sophia Loren  ...           6.80         6.80\n",
              "1       nm0139528  Renato Carpentieri  ...           6.24         6.71\n",
              "2      nm12070255   Iosif Diego Pirvu  ...           6.80         6.80\n",
              "3       nm5098066      Ibrahima Gueye  ...           6.80         6.80\n",
              "4       nm0000084             Gong Li  ...           0.05         5.61\n",
              "...           ...                 ...  ...            ...          ...\n",
              "29413   nm9960714    Daniel Nicholson  ...           6.90         6.90\n",
              "29414   nm9964007           Ahed Bhar  ...           6.40         6.40\n",
              "29415   nm9964008       Nassim Assaad  ...           6.40         6.40\n",
              "29416   nm9964009      Assad Chaftari  ...           6.40         6.40\n",
              "29417   nm9964039         Hasan Aboud  ...           6.40         6.40\n",
              "\n",
              "[29418 rows x 16 columns]"
            ]
          },
          "metadata": {
            "tags": []
          },
          "execution_count": 51
        }
      ]
    },
    {
      "cell_type": "code",
      "metadata": {
        "id": "b0E_00AfUNPC"
      },
      "source": [
        "df = pd.DataFrame()\n",
        "\n",
        "df[\"Movie\"] = koos.tconst.unique()"
      ],
      "execution_count": null,
      "outputs": []
    },
    {
      "cell_type": "code",
      "metadata": {
        "id": "HhXQdWVwUZck"
      },
      "source": [
        "for i in df.Movie:\n",
        "  names = koos[koos[\"tconst\"] == i]\n",
        "  names = names.reset_index(drop=True)\n",
        "  for j in range(len(names)):\n",
        "    df.loc[df['Movie'] == str(i), f\"f{j}\"] = names[\"RatingTo2020\"][j]\n",
        "  df.loc[df['Movie'] == str(i), \"Rating\"] = float(ratings.loc[ratings[\"tconst\"] == str(i), \"averageRating\"])\n",
        "  df.loc[df['Movie'] == str(i), \"Votes\"] = int(ratings.loc[ratings[\"tconst\"] == str(i), \"numVotes\"])"
      ],
      "execution_count": null,
      "outputs": []
    },
    {
      "cell_type": "code",
      "metadata": {
        "id": "OhTlsR8weP6S"
      },
      "source": [
        "df = df.fillna(0)"
      ],
      "execution_count": null,
      "outputs": []
    },
    {
      "cell_type": "code",
      "metadata": {
        "id": "0qjRCsCleZQZ"
      },
      "source": [
        "x = df[[\"f0\", \"f1\", \"f2\", \"f3\", \"f4\", \"f5\", \"f6\", \"f7\", \"f8\", \"f9\"]]\n",
        "y = df[\"Rating\"]"
      ],
      "execution_count": null,
      "outputs": []
    },
    {
      "cell_type": "code",
      "metadata": {
        "id": "rJlh8oqReZTK"
      },
      "source": [
        "from sklearn.model_selection import train_test_split\n",
        "from sklearn.metrics import roc_auc_score, accuracy_score\n",
        "\n",
        "xtrain, xtest, ytrain, ytest = train_test_split(x, y, \n",
        "                                                test_size = 0.3)"
      ],
      "execution_count": null,
      "outputs": []
    },
    {
      "cell_type": "code",
      "metadata": {
        "colab": {
          "base_uri": "https://localhost:8080/"
        },
        "id": "m9uezn7Feyg6",
        "outputId": "32f6abf3-8eed-4233-ece8-b45b8e1b1197"
      },
      "source": [
        "from sklearn.ensemble import RandomForestRegressor\n",
        "lr = RandomForestRegressor()\n",
        "\n",
        "lr.fit(xtrain, ytrain)"
      ],
      "execution_count": null,
      "outputs": [
        {
          "output_type": "execute_result",
          "data": {
            "text/plain": [
              "RandomForestRegressor(bootstrap=True, ccp_alpha=0.0, criterion='mse',\n",
              "                      max_depth=None, max_features='auto', max_leaf_nodes=None,\n",
              "                      max_samples=None, min_impurity_decrease=0.0,\n",
              "                      min_impurity_split=None, min_samples_leaf=1,\n",
              "                      min_samples_split=2, min_weight_fraction_leaf=0.0,\n",
              "                      n_estimators=100, n_jobs=None, oob_score=False,\n",
              "                      random_state=None, verbose=0, warm_start=False)"
            ]
          },
          "metadata": {
            "tags": []
          },
          "execution_count": 31
        }
      ]
    },
    {
      "cell_type": "code",
      "metadata": {
        "id": "3lMdHbkBeypO"
      },
      "source": [
        "y_pred = lr.predict(xtest)"
      ],
      "execution_count": null,
      "outputs": []
    },
    {
      "cell_type": "code",
      "metadata": {
        "colab": {
          "base_uri": "https://localhost:8080/",
          "height": 498
        },
        "id": "v8z-J_pde3xA",
        "outputId": "da8af1a8-4e92-46ad-e9b4-902d779dfb2b"
      },
      "source": [
        "import matplotlib.pyplot as plt\n",
        "plt.figure(figsize=(10,8))\n",
        "plt.scatter(ytest, y_pred, s = 2)\n",
        "plt.xlabel(\"True rating\")\n",
        "plt.ylabel(\"Predicted rating\")\n",
        "plt.show()"
      ],
      "execution_count": null,
      "outputs": [
        {
          "output_type": "display_data",
          "data": {
            "image/png": "[encoded data removed]",
            "text/plain": [
              "<Figure size 720x576 with 1 Axes>"
            ]
          },
          "metadata": {
            "tags": [],
            "needs_background": "light"
          }
        }
      ]
    },
    {
      "cell_type": "code",
      "metadata": {
        "colab": {
          "base_uri": "https://localhost:8080/",
          "height": 419
        },
        "id": "Vw6KxPG8W8fS",
        "outputId": "3f95304b-acc8-43ee-acfc-ea7dd6cb9c3a"
      },
      "source": [
        "df"
      ],
      "execution_count": null,
      "outputs": [
        {
          "output_type": "execute_result",
          "data": {
            "text/html": [
              "<div>\n",
              "<style scoped>\n",
              "    .dataframe tbody tr th:only-of-type {\n",
              "        vertical-align: middle;\n",
              "    }\n",
              "\n",
              "    .dataframe tbody tr th {\n",
              "        vertical-align: top;\n",
              "    }\n",
              "\n",
              "    .dataframe thead th {\n",
              "        text-align: right;\n",
              "    }\n",
              "</style>\n",
              "<table border=\"1\" class=\"dataframe\">\n",
              "  <thead>\n",
              "    <tr style=\"text-align: right;\">\n",
              "      <th></th>\n",
              "      <th>Movie</th>\n",
              "      <th>f0</th>\n",
              "      <th>f1</th>\n",
              "      <th>f2</th>\n",
              "      <th>f3</th>\n",
              "      <th>Rating</th>\n",
              "      <th>Votes</th>\n",
              "      <th>f4</th>\n",
              "      <th>f5</th>\n",
              "      <th>f6</th>\n",
              "      <th>f7</th>\n",
              "      <th>f8</th>\n",
              "      <th>f9</th>\n",
              "    </tr>\n",
              "  </thead>\n",
              "  <tbody>\n",
              "    <tr>\n",
              "      <th>0</th>\n",
              "      <td>tt1667150</td>\n",
              "      <td>6.6</td>\n",
              "      <td>5.86</td>\n",
              "      <td>5.50</td>\n",
              "      <td>5.50</td>\n",
              "      <td>5.5</td>\n",
              "      <td>1207.0</td>\n",
              "      <td>0.0</td>\n",
              "      <td>0.0</td>\n",
              "      <td>0.0</td>\n",
              "      <td>0.0</td>\n",
              "      <td>0.0</td>\n",
              "      <td>0.0</td>\n",
              "    </tr>\n",
              "    <tr>\n",
              "      <th>1</th>\n",
              "      <td>tt3125472</td>\n",
              "      <td>6.6</td>\n",
              "      <td>7.20</td>\n",
              "      <td>6.78</td>\n",
              "      <td>7.20</td>\n",
              "      <td>7.2</td>\n",
              "      <td>5550.0</td>\n",
              "      <td>0.0</td>\n",
              "      <td>0.0</td>\n",
              "      <td>0.0</td>\n",
              "      <td>0.0</td>\n",
              "      <td>0.0</td>\n",
              "      <td>0.0</td>\n",
              "    </tr>\n",
              "    <tr>\n",
              "      <th>2</th>\n",
              "      <td>tt4591310</td>\n",
              "      <td>6.6</td>\n",
              "      <td>5.92</td>\n",
              "      <td>6.28</td>\n",
              "      <td>5.78</td>\n",
              "      <td>5.9</td>\n",
              "      <td>2889.0</td>\n",
              "      <td>0.0</td>\n",
              "      <td>0.0</td>\n",
              "      <td>0.0</td>\n",
              "      <td>0.0</td>\n",
              "      <td>0.0</td>\n",
              "      <td>0.0</td>\n",
              "    </tr>\n",
              "    <tr>\n",
              "      <th>3</th>\n",
              "      <td>tt1053810</td>\n",
              "      <td>6.5</td>\n",
              "      <td>6.38</td>\n",
              "      <td>6.68</td>\n",
              "      <td>6.85</td>\n",
              "      <td>6.2</td>\n",
              "      <td>42632.0</td>\n",
              "      <td>0.0</td>\n",
              "      <td>0.0</td>\n",
              "      <td>0.0</td>\n",
              "      <td>0.0</td>\n",
              "      <td>0.0</td>\n",
              "      <td>0.0</td>\n",
              "    </tr>\n",
              "    <tr>\n",
              "      <th>4</th>\n",
              "      <td>tt1449283</td>\n",
              "      <td>6.5</td>\n",
              "      <td>7.19</td>\n",
              "      <td>7.76</td>\n",
              "      <td>0.00</td>\n",
              "      <td>7.2</td>\n",
              "      <td>22452.0</td>\n",
              "      <td>0.0</td>\n",
              "      <td>0.0</td>\n",
              "      <td>0.0</td>\n",
              "      <td>0.0</td>\n",
              "      <td>0.0</td>\n",
              "      <td>0.0</td>\n",
              "    </tr>\n",
              "    <tr>\n",
              "      <th>...</th>\n",
              "      <td>...</td>\n",
              "      <td>...</td>\n",
              "      <td>...</td>\n",
              "      <td>...</td>\n",
              "      <td>...</td>\n",
              "      <td>...</td>\n",
              "      <td>...</td>\n",
              "      <td>...</td>\n",
              "      <td>...</td>\n",
              "      <td>...</td>\n",
              "      <td>...</td>\n",
              "      <td>...</td>\n",
              "      <td>...</td>\n",
              "    </tr>\n",
              "    <tr>\n",
              "      <th>25983</th>\n",
              "      <td>tt8619974</td>\n",
              "      <td>5.5</td>\n",
              "      <td>5.50</td>\n",
              "      <td>5.50</td>\n",
              "      <td>5.50</td>\n",
              "      <td>5.5</td>\n",
              "      <td>22.0</td>\n",
              "      <td>5.5</td>\n",
              "      <td>5.5</td>\n",
              "      <td>5.5</td>\n",
              "      <td>5.5</td>\n",
              "      <td>0.0</td>\n",
              "      <td>0.0</td>\n",
              "    </tr>\n",
              "    <tr>\n",
              "      <th>25984</th>\n",
              "      <td>tt8634348</td>\n",
              "      <td>3.4</td>\n",
              "      <td>3.40</td>\n",
              "      <td>3.40</td>\n",
              "      <td>3.40</td>\n",
              "      <td>3.4</td>\n",
              "      <td>787.0</td>\n",
              "      <td>0.0</td>\n",
              "      <td>0.0</td>\n",
              "      <td>0.0</td>\n",
              "      <td>0.0</td>\n",
              "      <td>0.0</td>\n",
              "      <td>0.0</td>\n",
              "    </tr>\n",
              "    <tr>\n",
              "      <th>25985</th>\n",
              "      <td>tt8665364</td>\n",
              "      <td>7.4</td>\n",
              "      <td>7.40</td>\n",
              "      <td>7.40</td>\n",
              "      <td>7.40</td>\n",
              "      <td>7.4</td>\n",
              "      <td>14.0</td>\n",
              "      <td>0.0</td>\n",
              "      <td>0.0</td>\n",
              "      <td>0.0</td>\n",
              "      <td>0.0</td>\n",
              "      <td>0.0</td>\n",
              "      <td>0.0</td>\n",
              "    </tr>\n",
              "    <tr>\n",
              "      <th>25986</th>\n",
              "      <td>tt6594148</td>\n",
              "      <td>5.5</td>\n",
              "      <td>0.00</td>\n",
              "      <td>0.00</td>\n",
              "      <td>0.00</td>\n",
              "      <td>5.5</td>\n",
              "      <td>34.0</td>\n",
              "      <td>0.0</td>\n",
              "      <td>0.0</td>\n",
              "      <td>0.0</td>\n",
              "      <td>0.0</td>\n",
              "      <td>0.0</td>\n",
              "      <td>0.0</td>\n",
              "    </tr>\n",
              "    <tr>\n",
              "      <th>25987</th>\n",
              "      <td>tt7948406</td>\n",
              "      <td>8.3</td>\n",
              "      <td>8.30</td>\n",
              "      <td>8.30</td>\n",
              "      <td>0.00</td>\n",
              "      <td>8.3</td>\n",
              "      <td>33.0</td>\n",
              "      <td>0.0</td>\n",
              "      <td>0.0</td>\n",
              "      <td>0.0</td>\n",
              "      <td>0.0</td>\n",
              "      <td>0.0</td>\n",
              "      <td>0.0</td>\n",
              "    </tr>\n",
              "  </tbody>\n",
              "</table>\n",
              "<p>25988 rows × 13 columns</p>\n",
              "</div>"
            ],
            "text/plain": [
              "           Movie   f0    f1    f2    f3  Rating  ...   f4   f5   f6   f7   f8   f9\n",
              "0      tt1667150  6.6  5.86  5.50  5.50     5.5  ...  0.0  0.0  0.0  0.0  0.0  0.0\n",
              "1      tt3125472  6.6  7.20  6.78  7.20     7.2  ...  0.0  0.0  0.0  0.0  0.0  0.0\n",
              "2      tt4591310  6.6  5.92  6.28  5.78     5.9  ...  0.0  0.0  0.0  0.0  0.0  0.0\n",
              "3      tt1053810  6.5  6.38  6.68  6.85     6.2  ...  0.0  0.0  0.0  0.0  0.0  0.0\n",
              "4      tt1449283  6.5  7.19  7.76  0.00     7.2  ...  0.0  0.0  0.0  0.0  0.0  0.0\n",
              "...          ...  ...   ...   ...   ...     ...  ...  ...  ...  ...  ...  ...  ...\n",
              "25983  tt8619974  5.5  5.50  5.50  5.50     5.5  ...  5.5  5.5  5.5  5.5  0.0  0.0\n",
              "25984  tt8634348  3.4  3.40  3.40  3.40     3.4  ...  0.0  0.0  0.0  0.0  0.0  0.0\n",
              "25985  tt8665364  7.4  7.40  7.40  7.40     7.4  ...  0.0  0.0  0.0  0.0  0.0  0.0\n",
              "25986  tt6594148  5.5  0.00  0.00  0.00     5.5  ...  0.0  0.0  0.0  0.0  0.0  0.0\n",
              "25987  tt7948406  8.3  8.30  8.30  0.00     8.3  ...  0.0  0.0  0.0  0.0  0.0  0.0\n",
              "\n",
              "[25988 rows x 13 columns]"
            ]
          },
          "metadata": {
            "tags": []
          },
          "execution_count": 34
        }
      ]
    },
    {
      "cell_type": "markdown",
      "metadata": {
        "id": "etdTddB7xIkx"
      },
      "source": [
        "## Evoluting"
      ]
    },
    {
      "cell_type": "code",
      "metadata": {
        "id": "OM-CFIBvmKOb"
      },
      "source": [
        "y_pred_evo = lr.predict(x)"
      ],
      "execution_count": null,
      "outputs": []
    },
    {
      "cell_type": "code",
      "metadata": {
        "colab": {
          "base_uri": "https://localhost:8080/"
        },
        "id": "JKtf_6o8ocWu",
        "outputId": "5693bfb7-6c29-4748-e016-9b67ac23620d"
      },
      "source": [
        "y_pred_evo"
      ],
      "execution_count": null,
      "outputs": [
        {
          "output_type": "execute_result",
          "data": {
            "text/plain": [
              "array([6.781, 6.385, 5.644, ..., 6.9  , 6.9  , 6.4  ])"
            ]
          },
          "metadata": {
            "tags": []
          },
          "execution_count": 57
        }
      ]
    },
    {
      "cell_type": "code",
      "metadata": {
        "colab": {
          "base_uri": "https://localhost:8080/"
        },
        "id": "chZ-pDBNogS8",
        "outputId": "117713ec-bc6b-4f7b-8b3e-ac41b66c6b4d"
      },
      "source": [
        "y"
      ],
      "execution_count": null,
      "outputs": [
        {
          "output_type": "execute_result",
          "data": {
            "text/plain": [
              "0       6.8\n",
              "1       6.7\n",
              "2       5.6\n",
              "3       4.7\n",
              "4       5.3\n",
              "       ... \n",
              "7131    5.9\n",
              "7132    5.2\n",
              "7133    6.9\n",
              "7134    6.9\n",
              "7135    6.4\n",
              "Name: Rating, Length: 7136, dtype: float64"
            ]
          },
          "metadata": {
            "tags": []
          },
          "execution_count": 58
        }
      ]
    },
    {
      "cell_type": "code",
      "metadata": {
        "colab": {
          "base_uri": "https://localhost:8080/"
        },
        "id": "xiAD-M3zpYwQ",
        "outputId": "fedb9d98-1f07-4a3d-e6e5-a22b0d5bc7ad"
      },
      "source": [
        "coef = np.polyfit(y, y_pred_evo, 1)\n",
        "coef"
      ],
      "execution_count": null,
      "outputs": [
        {
          "output_type": "execute_result",
          "data": {
            "text/plain": [
              "array([0.9414463 , 0.33369288])"
            ]
          },
          "metadata": {
            "tags": []
          },
          "execution_count": 59
        }
      ]
    },
    {
      "cell_type": "code",
      "metadata": {
        "colab": {
          "base_uri": "https://localhost:8080/"
        },
        "id": "PS7yF5hcpltN",
        "outputId": "a75190a1-fac4-4969-e583-672bb4c28ab2"
      },
      "source": [
        "p = np.poly1d(coef)\n",
        "p"
      ],
      "execution_count": null,
      "outputs": [
        {
          "output_type": "execute_result",
          "data": {
            "text/plain": [
              "poly1d([0.9414463 , 0.33369288])"
            ]
          },
          "metadata": {
            "tags": []
          },
          "execution_count": 60
        }
      ]
    },
    {
      "cell_type": "code",
      "metadata": {
        "colab": {
          "base_uri": "https://localhost:8080/"
        },
        "id": "d9zls8Y0pnqV",
        "outputId": "8f6cbd5a-f327-4b8c-df79-ed2f6f2b6264"
      },
      "source": [
        "summation = 0  #variable to store the summation of differences\n",
        "n = len(y) #finding total number of items in list\n",
        "for i in range (0,n):  #looping through each element of the list\n",
        "  difference = y[i] - y_pred_evo[i]  #finding the difference between observed and predicted value\n",
        "  squared_difference = difference**2  #taking square of the differene \n",
        "  summation = summation + squared_difference  #taking a sum of all the differences\n",
        "MSE = summation/n  #dividing summation by total values to obtain average\n",
        "print (\"The Mean Square Error is: \" , MSE)"
      ],
      "execution_count": null,
      "outputs": [
        {
          "output_type": "stream",
          "text": [
            "The Mean Square Error is:  0.14832425697480353\n"
          ],
          "name": "stdout"
        }
      ]
    },
    {
      "cell_type": "code",
      "metadata": {
        "colab": {
          "base_uri": "https://localhost:8080/",
          "height": 497
        },
        "id": "4oebkdGcxFTY",
        "outputId": "323fdf66-a9a3-4004-ffcc-7181fb936f79"
      },
      "source": [
        "import matplotlib.pyplot as plt\n",
        "plt.figure(figsize=(10,8))\n",
        "plt.scatter(y, y_pred_evo, s = 2)\n",
        "plt.plot(y, p(y), '-', color = \"red\")\n",
        "plt.xlabel(\"True rating\")\n",
        "plt.ylabel(\"Predicted rating\")\n",
        "plt.show()"
      ],
      "execution_count": null,
      "outputs": [
        {
          "output_type": "display_data",
          "data": {
            "image/png": "[encoded data removed]",
            "text/plain": [
              "<Figure size 720x576 with 1 Axes>"
            ]
          },
          "metadata": {
            "tags": [],
            "needs_background": "light"
          }
        }
      ]
    }
  ]
}