{
  "nbformat": 4,
  "nbformat_minor": 0,
  "metadata": {
    "kernelspec": {
      "display_name": "Python 3",
      "language": "python",
      "name": "python3"
    },
    "colab": {
      "name": "IMDB Cleaner and Graph Creator.ipynb",
      "provenance": [],
      "collapsed_sections": [],
      "toc_visible": true
    },
    "widgets": {
      "application/vnd.jupyter.widget-state+json": {
        "a9ecd46104a5494ba8404982a9b3938b": {
          "model_module": "@jupyter-widgets/controls",
          "model_name": "HBoxModel",
          "state": {
            "_view_name": "HBoxView",
            "_dom_classes": [],
            "_model_name": "HBoxModel",
            "_view_module": "@jupyter-widgets/controls",
            "_model_module_version": "1.5.0",
            "_view_count": null,
            "_view_module_version": "1.5.0",
            "box_style": "",
            "layout": "IPY_MODEL_13c34c8f78d944219bc421889bf212bb",
            "_model_module": "@jupyter-widgets/controls",
            "children": [
              "IPY_MODEL_20f7bd52f7aa4fc48a2e6f3a31f3a904",
              "IPY_MODEL_e381ed0dc33a4bfdad332dc35a9dba1d"
            ]
          }
        },
        "13c34c8f78d944219bc421889bf212bb": {
          "model_module": "@jupyter-widgets/base",
          "model_name": "LayoutModel",
          "state": {
            "_view_name": "LayoutView",
            "grid_template_rows": null,
            "right": null,
            "justify_content": null,
            "_view_module": "@jupyter-widgets/base",
            "overflow": null,
            "_model_module_version": "1.2.0",
            "_view_count": null,
            "flex_flow": null,
            "width": null,
            "min_width": null,
            "border": null,
            "align_items": null,
            "bottom": null,
            "_model_module": "@jupyter-widgets/base",
            "top": null,
            "grid_column": null,
            "overflow_y": null,
            "overflow_x": null,
            "grid_auto_flow": null,
            "grid_area": null,
            "grid_template_columns": null,
            "flex": null,
            "_model_name": "LayoutModel",
            "justify_items": null,
            "grid_row": null,
            "max_height": null,
            "align_content": null,
            "visibility": null,
            "align_self": null,
            "height": null,
            "min_height": null,
            "padding": null,
            "grid_auto_rows": null,
            "grid_gap": null,
            "max_width": null,
            "order": null,
            "_view_module_version": "1.2.0",
            "grid_template_areas": null,
            "object_position": null,
            "object_fit": null,
            "grid_auto_columns": null,
            "margin": null,
            "display": null,
            "left": null
          }
        },
        "20f7bd52f7aa4fc48a2e6f3a31f3a904": {
          "model_module": "@jupyter-widgets/controls",
          "model_name": "FloatProgressModel",
          "state": {
            "_view_name": "ProgressView",
            "style": "IPY_MODEL_005550cb404d4108b2141c14e1b3f947",
            "_dom_classes": [],
            "description": "100%",
            "_model_name": "FloatProgressModel",
            "bar_style": "success",
            "max": 68921,
            "_view_module": "@jupyter-widgets/controls",
            "_model_module_version": "1.5.0",
            "value": 68921,
            "_view_count": null,
            "_view_module_version": "1.5.0",
            "orientation": "horizontal",
            "min": 0,
            "description_tooltip": null,
            "_model_module": "@jupyter-widgets/controls",
            "layout": "IPY_MODEL_8928d175ddc24c8f842003bf81696769"
          }
        },
        "e381ed0dc33a4bfdad332dc35a9dba1d": {
          "model_module": "@jupyter-widgets/controls",
          "model_name": "HTMLModel",
          "state": {
            "_view_name": "HTMLView",
            "style": "IPY_MODEL_dcc89a07beda465099aa5958880df1e3",
            "_dom_classes": [],
            "description": "",
            "_model_name": "HTMLModel",
            "placeholder": "​",
            "_view_module": "@jupyter-widgets/controls",
            "_model_module_version": "1.5.0",
            "value": " 68921/68921 [45:29&lt;00:00, 25.25it/s]",
            "_view_count": null,
            "_view_module_version": "1.5.0",
            "description_tooltip": null,
            "_model_module": "@jupyter-widgets/controls",
            "layout": "IPY_MODEL_8133eb8c7bb74cf2a9fd558d4bea8f7d"
          }
        },
        "005550cb404d4108b2141c14e1b3f947": {
          "model_module": "@jupyter-widgets/controls",
          "model_name": "ProgressStyleModel",
          "state": {
            "_view_name": "StyleView",
            "_model_name": "ProgressStyleModel",
            "description_width": "initial",
            "_view_module": "@jupyter-widgets/base",
            "_model_module_version": "1.5.0",
            "_view_count": null,
            "_view_module_version": "1.2.0",
            "bar_color": null,
            "_model_module": "@jupyter-widgets/controls"
          }
        },
        "8928d175ddc24c8f842003bf81696769": {
          "model_module": "@jupyter-widgets/base",
          "model_name": "LayoutModel",
          "state": {
            "_view_name": "LayoutView",
            "grid_template_rows": null,
            "right": null,
            "justify_content": null,
            "_view_module": "@jupyter-widgets/base",
            "overflow": null,
            "_model_module_version": "1.2.0",
            "_view_count": null,
            "flex_flow": null,
            "width": null,
            "min_width": null,
            "border": null,
            "align_items": null,
            "bottom": null,
            "_model_module": "@jupyter-widgets/base",
            "top": null,
            "grid_column": null,
            "overflow_y": null,
            "overflow_x": null,
            "grid_auto_flow": null,
            "grid_area": null,
            "grid_template_columns": null,
            "flex": null,
            "_model_name": "LayoutModel",
            "justify_items": null,
            "grid_row": null,
            "max_height": null,
            "align_content": null,
            "visibility": null,
            "align_self": null,
            "height": null,
            "min_height": null,
            "padding": null,
            "grid_auto_rows": null,
            "grid_gap": null,
            "max_width": null,
            "order": null,
            "_view_module_version": "1.2.0",
            "grid_template_areas": null,
            "object_position": null,
            "object_fit": null,
            "grid_auto_columns": null,
            "margin": null,
            "display": null,
            "left": null
          }
        },
        "dcc89a07beda465099aa5958880df1e3": {
          "model_module": "@jupyter-widgets/controls",
          "model_name": "DescriptionStyleModel",
          "state": {
            "_view_name": "StyleView",
            "_model_name": "DescriptionStyleModel",
            "description_width": "",
            "_view_module": "@jupyter-widgets/base",
            "_model_module_version": "1.5.0",
            "_view_count": null,
            "_view_module_version": "1.2.0",
            "_model_module": "@jupyter-widgets/controls"
          }
        },
        "8133eb8c7bb74cf2a9fd558d4bea8f7d": {
          "model_module": "@jupyter-widgets/base",
          "model_name": "LayoutModel",
          "state": {
            "_view_name": "LayoutView",
            "grid_template_rows": null,
            "right": null,
            "justify_content": null,
            "_view_module": "@jupyter-widgets/base",
            "overflow": null,
            "_model_module_version": "1.2.0",
            "_view_count": null,
            "flex_flow": null,
            "width": null,
            "min_width": null,
            "border": null,
            "align_items": null,
            "bottom": null,
            "_model_module": "@jupyter-widgets/base",
            "top": null,
            "grid_column": null,
            "overflow_y": null,
            "overflow_x": null,
            "grid_auto_flow": null,
            "grid_area": null,
            "grid_template_columns": null,
            "flex": null,
            "_model_name": "LayoutModel",
            "justify_items": null,
            "grid_row": null,
            "max_height": null,
            "align_content": null,
            "visibility": null,
            "align_self": null,
            "height": null,
            "min_height": null,
            "padding": null,
            "grid_auto_rows": null,
            "grid_gap": null,
            "max_width": null,
            "order": null,
            "_view_module_version": "1.2.0",
            "grid_template_areas": null,
            "object_position": null,
            "object_fit": null,
            "grid_auto_columns": null,
            "margin": null,
            "display": null,
            "left": null
          }
        }
      }
    }
  },
  "cells": [
    {
      "cell_type": "code",
      "metadata": {
        "id": "z8WTexso9Zuf"
      },
      "source": [
        "import pandas as pd\n",
        "import networkx as nx\n",
        "from tqdm import tqdm_notebook as tqdm\n",
        "import itertools\n",
        "import matplotlib.pyplot as plt"
      ],
      "execution_count": null,
      "outputs": []
    },
    {
      "cell_type": "markdown",
      "metadata": {
        "id": "xfZ26_ss9eLm"
      },
      "source": [
        "#### Create connection with datasets"
      ]
    },
    {
      "cell_type": "markdown",
      "metadata": {
        "id": "D5-mYaLw_d8R"
      },
      "source": [
        "##### Datasets via shareable link"
      ]
    },
    {
      "cell_type": "code",
      "metadata": {
        "id": "0E5cPhQ__bqn"
      },
      "source": [
        "# Code to read csv file into Colaboratory:\n",
        "!pip install -U -q PyDrive\n",
        "from pydrive.auth import GoogleAuth\n",
        "from pydrive.drive import GoogleDrive\n",
        "from google.colab import auth\n",
        "from oauth2client.client import GoogleCredentials\n",
        "# Authenticate and create the PyDrive client.\n",
        "auth.authenticate_user()\n",
        "gauth = GoogleAuth()\n",
        "gauth.credentials = GoogleCredentials.get_application_default()\n",
        "drive = GoogleDrive(gauth)"
      ],
      "execution_count": null,
      "outputs": []
    },
    {
      "cell_type": "code",
      "metadata": {
        "id": "H05jqJxy_vMe"
      },
      "source": [
        "link = \"https://drive.google.com/file/d/1T_cW32Wtp_D-5XAFo7SScy-gO0phlHhp/view?usp=sharing\"\n",
        "id = link.split(\"/\")[-2]\n",
        "downloaded = drive.CreateFile({'id':id}) \n",
        "downloaded.GetContentFile('title.ratings.tsv')"
      ],
      "execution_count": null,
      "outputs": []
    },
    {
      "cell_type": "code",
      "metadata": {
        "id": "lpBeoh8d__eE"
      },
      "source": [
        "link = \"https://drive.google.com/file/d/1tyqWloBbdzxFROWRtrAZAsr82HwJQT7T/view?usp=sharing\"\n",
        "id = link.split(\"/\")[-2]\n",
        "downloaded = drive.CreateFile({'id':id}) \n",
        "downloaded.GetContentFile('title.principals.tsv')"
      ],
      "execution_count": null,
      "outputs": []
    },
    {
      "cell_type": "code",
      "metadata": {
        "id": "zNr0m-ppAAg8"
      },
      "source": [
        "link = \"https://drive.google.com/file/d/1vCYRPpD6iWAX-LpSFBa0orH_0VCfqL7-/view?usp=sharing\"\n",
        "id = link.split(\"/\")[-2]\n",
        "downloaded = drive.CreateFile({'id':id}) \n",
        "downloaded.GetContentFile('title.basics.tsv')"
      ],
      "execution_count": null,
      "outputs": []
    },
    {
      "cell_type": "code",
      "metadata": {
        "id": "EWJmfo9YABEZ"
      },
      "source": [
        "link = \"https://drive.google.com/file/d/1yhwoApklCg0y_RM-gqwxy80l-rMQvCWH/view?usp=sharing\"\n",
        "id = link.split(\"/\")[-2]\n",
        "downloaded = drive.CreateFile({'id':id}) \n",
        "downloaded.GetContentFile('name.basics.tsv')"
      ],
      "execution_count": null,
      "outputs": []
    },
    {
      "cell_type": "markdown",
      "metadata": {
        "id": "LBJ7VCWr9Zui"
      },
      "source": [
        "#### Read in datasets"
      ]
    },
    {
      "cell_type": "code",
      "metadata": {
        "id": "sjq3GwI59Zuj"
      },
      "source": [
        "ratings = pd.read_csv(\"title.ratings.tsv\", sep='\\t')"
      ],
      "execution_count": null,
      "outputs": []
    },
    {
      "cell_type": "code",
      "metadata": {
        "id": "eKgIRyet9Zuj"
      },
      "source": [
        "crew = pd.read_csv(\"title.principals.tsv\", sep='\\t')"
      ],
      "execution_count": null,
      "outputs": []
    },
    {
      "cell_type": "code",
      "metadata": {
        "colab": {
          "base_uri": "https://localhost:8080/"
        },
        "id": "pQrWmsvo9Zuk",
        "outputId": "5571cc1e-5149-496b-a631-2e9284e14930"
      },
      "source": [
        "movies = pd.read_csv(\"title.basics.tsv\", sep='\\t')"
      ],
      "execution_count": null,
      "outputs": [
        {
          "output_type": "stream",
          "text": [
            "/usr/local/lib/python3.7/dist-packages/IPython/core/interactiveshell.py:2718: DtypeWarning: Columns (4,5) have mixed types.Specify dtype option on import or set low_memory=False.\n",
            "  interactivity=interactivity, compiler=compiler, result=result)\n"
          ],
          "name": "stderr"
        }
      ]
    },
    {
      "cell_type": "code",
      "metadata": {
        "id": "mQJCxmBt9Zuk"
      },
      "source": [
        "names = pd.read_csv(\"name.basics.tsv\", sep='\\t')"
      ],
      "execution_count": null,
      "outputs": []
    },
    {
      "cell_type": "markdown",
      "metadata": {
        "id": "o522KC099Zul"
      },
      "source": [
        "#### Clean data"
      ]
    },
    {
      "cell_type": "code",
      "metadata": {
        "id": "Ew8-6vdK9Zul",
        "colab": {
          "base_uri": "https://localhost:8080/"
        },
        "outputId": "fa38dabc-2957-400a-8894-4878cd59cc61"
      },
      "source": [
        "print(len(ratings))\n",
        "print(len(crew))\n",
        "print(len(movies))\n",
        "print(len(names))"
      ],
      "execution_count": null,
      "outputs": [
        {
          "output_type": "stream",
          "text": [
            "1149651\n",
            "44619193\n",
            "7884849\n",
            "10916797\n"
          ],
          "name": "stdout"
        }
      ]
    },
    {
      "cell_type": "code",
      "metadata": {
        "id": "vAT5o6JA9Zum"
      },
      "source": [
        "names = names[names.deathYear == '\\\\N'] # remove deceased crew from names data"
      ],
      "execution_count": null,
      "outputs": []
    },
    {
      "cell_type": "code",
      "metadata": {
        "id": "TkzPMt6d9Zum"
      },
      "source": [
        "movies = movies[movies.titleType == \"movie\"] # focus on movies"
      ],
      "execution_count": null,
      "outputs": []
    },
    {
      "cell_type": "code",
      "metadata": {
        "id": "Kx_AoX7y9Zun"
      },
      "source": [
        "# Limits for years to calculate\n",
        "fromYear = 2011\n",
        "toYear = 2020"
      ],
      "execution_count": null,
      "outputs": []
    },
    {
      "cell_type": "code",
      "metadata": {
        "id": "TOVc8tpV9Zuo"
      },
      "source": [
        ""
      ],
      "execution_count": null,
      "outputs": []
    },
    {
      "cell_type": "code",
      "metadata": {
        "id": "8Ngn2d3x9Zuo"
      },
      "source": [
        "movies = movies[(movies.startYear >= fromYear) & (movies.startYear <= toYear)] # filter out all years that are not in the given range"
      ],
      "execution_count": null,
      "outputs": []
    },
    {
      "cell_type": "code",
      "metadata": {
        "id": "9Kx0t02L9Zup"
      },
      "source": [
        "crew = crew[crew.nconst.isin(names.nconst)] # remove deceased crew from crew data\n",
        "movies = movies[movies.tconst.isin(crew.tconst)] # remove movies that no longer have crew data\n",
        "movies = movies[movies.tconst.isin(ratings.tconst)] # remove movies that don't have ratings"
      ],
      "execution_count": null,
      "outputs": []
    },
    {
      "cell_type": "code",
      "metadata": {
        "id": "ObyTMnvo9Zup"
      },
      "source": [
        "ratings = ratings[ratings.tconst.isin(movies.tconst)] # remove ratings of non-movies\n",
        "crew = crew[crew.tconst.isin(movies.tconst)] # remove crew of non-movies\n",
        "names = names[names.nconst.isin(crew.nconst)] # remove names of people not in the new crew list"
      ],
      "execution_count": null,
      "outputs": []
    },
    {
      "cell_type": "code",
      "metadata": {
        "id": "y_ZWKUCW9Zuq",
        "colab": {
          "base_uri": "https://localhost:8080/"
        },
        "outputId": "5df53a54-567f-4e1a-86e9-a7375558f2f2"
      },
      "source": [
        "print(len(ratings))\n",
        "print(len(crew))\n",
        "print(len(movies))\n",
        "print(len(names))"
      ],
      "execution_count": null,
      "outputs": [
        {
          "output_type": "stream",
          "text": [
            "85621\n",
            "718655\n",
            "85621\n",
            "407015\n"
          ],
          "name": "stdout"
        }
      ]
    },
    {
      "cell_type": "code",
      "metadata": {
        "id": "Q-pe-CG59Zur"
      },
      "source": [
        "movies.to_csv('movie.basics.cleaned.csv')\n",
        "ratings.to_csv('movie.ratings.cleaned.csv')\n",
        "crew.to_csv('movie.principals.cleaned.csv')\n",
        "names.to_csv('names.basics.cleaned.csv')"
      ],
      "execution_count": null,
      "outputs": []
    },
    {
      "cell_type": "code",
      "metadata": {
        "id": "vbjbWifVNJfi",
        "colab": {
          "base_uri": "https://localhost:8080/"
        },
        "outputId": "bf11eb22-9a9b-4034-aae1-02a7c23e1716"
      },
      "source": [
        "actors = crew[(crew.category==\"actor\") | (crew.category==\"actress\")] # filter out only actors and actresses from the crew\n",
        "actors2 = actors[[\"tconst\", \"nconst\"]] # to get columns that is needed\n",
        "print(\"Not all movies have data about actors:\")\n",
        "print(\"Number of movies:\", len(movies))\n",
        "print(\"Number of movies with actor data:\", len(actors2.tconst.unique()))\n",
        "movies2 = movies[movies.tconst.isin(actors2.tconst)] # Lets remove movies without actor data\n",
        "names2 = names[names.nconst.isin(actors2.nconst)] # remove names of people not in the actors list\n",
        "actors_names = pd.merge(names2, actors2, how=\"left\", on=\"nconst\") # merge data to have names"
      ],
      "execution_count": null,
      "outputs": [
        {
          "output_type": "stream",
          "text": [
            "Not all movies have data about actors:\n",
            "Number of movies: 85621\n",
            "Number of movies with actor data: 68921\n"
          ],
          "name": "stdout"
        },
        {
          "output_type": "execute_result",
          "data": {
            "text/plain": [
              "68921"
            ]
          },
          "metadata": {
            "tags": []
          },
          "execution_count": 101
        }
      ]
    },
    {
      "cell_type": "markdown",
      "metadata": {
        "id": "C_sDgIfYxAJj"
      },
      "source": [
        "#### Make graph and graph pickle"
      ]
    },
    {
      "cell_type": "code",
      "metadata": {
        "colab": {
          "base_uri": "https://localhost:8080/",
          "height": 120,
          "referenced_widgets": [
            "a9ecd46104a5494ba8404982a9b3938b",
            "13c34c8f78d944219bc421889bf212bb",
            "20f7bd52f7aa4fc48a2e6f3a31f3a904",
            "e381ed0dc33a4bfdad332dc35a9dba1d",
            "005550cb404d4108b2141c14e1b3f947",
            "8928d175ddc24c8f842003bf81696769",
            "dcc89a07beda465099aa5958880df1e3",
            "8133eb8c7bb74cf2a9fd558d4bea8f7d"
          ]
        },
        "id": "QFi0xMtnZfIY",
        "outputId": "986e8786-42a3-4790-d669-f2d4f5df15fd"
      },
      "source": [
        "# Better Try\n",
        "\n",
        "G = nx.Graph()\n",
        "\n",
        "for movie in tqdm(movies2.index):\n",
        "  actorlist = actors_names.loc[actors_names.tconst == movies.tconst[movie]].index\n",
        "  for i, j in itertools.combinations(actorlist, 2):\n",
        "    # try-except if some names are not available due to partial testing data\n",
        "    actor_node1 = actors_names[\"primaryName\"][i]\n",
        "    actor_node2 = actors_names[\"primaryName\"][j]\n",
        "\n",
        "    G.add_edge(actor_node1, actor_node2)"
      ],
      "execution_count": null,
      "outputs": [
        {
          "output_type": "stream",
          "text": [
            "/usr/local/lib/python3.7/dist-packages/ipykernel_launcher.py:5: TqdmDeprecationWarning: This function will be removed in tqdm==5.0.0\n",
            "Please use `tqdm.notebook.tqdm` instead of `tqdm.tqdm_notebook`\n",
            "  \"\"\"\n"
          ],
          "name": "stderr"
        },
        {
          "output_type": "display_data",
          "data": {
            "application/vnd.jupyter.widget-view+json": {
              "model_id": "a9ecd46104a5494ba8404982a9b3938b",
              "version_minor": 0,
              "version_major": 2
            },
            "text/plain": [
              "HBox(children=(FloatProgress(value=0.0, max=68921.0), HTML(value='')))"
            ]
          },
          "metadata": {
            "tags": []
          }
        },
        {
          "output_type": "stream",
          "text": [
            "\n"
          ],
          "name": "stdout"
        }
      ]
    },
    {
      "cell_type": "code",
      "metadata": {
        "id": "ApTx4oTwtVzR"
      },
      "source": [
        "nx.write_gpickle(G, \"graph.gpickle\")"
      ],
      "execution_count": null,
      "outputs": []
    }
  ]
}